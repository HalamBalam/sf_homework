{
  "cells": [
    {
      "cell_type": "code",
      "execution_count": null,
      "metadata": {
        "colab": {
          "base_uri": "https://localhost:8080/"
        },
        "id": "_aYjJdIiCXqZ",
        "outputId": "f3a8c90e-01e6-4c43-dcb1-57de3c9f990b"
      },
      "outputs": [
        {
          "name": "stdout",
          "output_type": "stream",
          "text": [
            "Python 3.7.13\n"
          ]
        }
      ],
      "source": [
        "!python3 -V"
      ]
    },
    {
      "cell_type": "markdown",
      "metadata": {
        "id": "7a_LLXLjCeMS"
      },
      "source": [
        "****\n",
        "**Задание 1.**\n",
        "\n",
        "Студент магистратуры обычно спит ночью XX часов и устраивает себе днем тихий час на YY минут. Определите, сколько всего студент спит в сутки (если вообще спит). Программа должна принимать значения XX и YY из стандартного потока ввода (функция input), результат надо выводить в стандартный поток вывода (функция print).\n",
        "\n",
        "\n",
        "```\n",
        "Sample Input 1:\n",
        "7\n",
        "30\n",
        "Sample Output 1:\n",
        "450\n",
        "\n",
        "Sample Input 2:\n",
        "0\n",
        "42\n",
        "Sample Output 2:\n",
        "42\n",
        "```\n"
      ]
    },
    {
      "cell_type": "code",
      "execution_count": 17,
      "metadata": {
        "id": "gWyFoGkrDGhi"
      },
      "outputs": [
        {
          "ename": "ValueError",
          "evalue": "Wrong number of minutes. Value must be in range 0-60",
          "output_type": "error",
          "traceback": [
            "\u001b[1;31m---------------------------------------------------------------------------\u001b[0m",
            "\u001b[1;31mValueError\u001b[0m                                Traceback (most recent call last)",
            "Cell \u001b[1;32mIn [17], line 12\u001b[0m\n\u001b[0;32m     10\u001b[0m     remain_minutes \u001b[38;5;241m=\u001b[39m \u001b[38;5;28mint\u001b[39m((\u001b[38;5;241m24\u001b[39m \u001b[38;5;241m-\u001b[39m night_hours) \u001b[38;5;241m*\u001b[39m \u001b[38;5;241m60\u001b[39m)\n\u001b[0;32m     11\u001b[0m     \u001b[38;5;28;01mif\u001b[39;00m day_minutes \u001b[38;5;241m<\u001b[39m \u001b[38;5;241m0\u001b[39m \u001b[38;5;129;01mor\u001b[39;00m day_minutes \u001b[38;5;241m>\u001b[39m remain_minutes:\n\u001b[1;32m---> 12\u001b[0m         \u001b[38;5;28;01mraise\u001b[39;00m \u001b[38;5;167;01mValueError\u001b[39;00m(\u001b[38;5;124mf\u001b[39m\u001b[38;5;124m\"\u001b[39m\u001b[38;5;124mWrong number of minutes. Value must be in range 0-\u001b[39m\u001b[38;5;132;01m{\u001b[39;00mremain_minutes\u001b[38;5;132;01m}\u001b[39;00m\u001b[38;5;124m\"\u001b[39m)\n\u001b[0;32m     14\u001b[0m \u001b[38;5;28mprint\u001b[39m(\u001b[38;5;28mint\u001b[39m(night_hours\u001b[38;5;241m*\u001b[39m\u001b[38;5;241m60\u001b[39m) \u001b[38;5;241m+\u001b[39m day_minutes)\n",
            "\u001b[1;31mValueError\u001b[0m: Wrong number of minutes. Value must be in range 0-60"
          ]
        }
      ],
      "source": [
        "#Решение задания 1\n",
        "night_hours = input(\"Enter night's sleeping hours: \")\n",
        "night_hours = float(night_hours.replace(',', '.'))\n",
        "if night_hours < 0 or night_hours > 24:\n",
        "    raise ValueError(\"Wrong number of hours. Value must be in range 0-24\")\n",
        "    \n",
        "day_minutes = 0\n",
        "if night_hours < 24:\n",
        "    day_minutes = int(input(\"Enter day's sleeping minutes: \"))\n",
        "    remain_minutes = int((24 - night_hours) * 60)\n",
        "    if day_minutes < 0 or day_minutes > remain_minutes:\n",
        "        raise ValueError(f\"Wrong number of minutes. Value must be in range 0-{remain_minutes}\")\n",
        "    \n",
        "print(int(night_hours*60) + day_minutes)"
      ]
    },
    {
      "cell_type": "markdown",
      "metadata": {
        "id": "v_npn-j3C8jg"
      },
      "source": [
        "****\n",
        "**Задание 2**\n",
        "\n",
        "Студент МФТИ каждый день ложится спать ровно в полночь и недавно узнал, что оптимальное время для его сна составляет XX минут. Он хочет поставить себе будильник так, чтобы он прозвенел ровно через XX минут после полуночи, однако для этого необходимо указать время сигнала в формате часы, минуты. Помогите студенту определить, на какое время завести будильник.\n",
        "Часы и минуты в выводе программы должны располагаться на разных строках\n",
        "\n",
        "```\n",
        "Sample Input 1:\n",
        "480\n",
        "Sample Output 1:\n",
        "8\n",
        "0\n",
        "\n",
        "Sample Input 2:\n",
        "512\n",
        "Sample Output 2:\n",
        "8\n",
        "32\n",
        "```\n"
      ]
    },
    {
      "cell_type": "code",
      "execution_count": 36,
      "metadata": {
        "id": "6jRyzamrCall"
      },
      "outputs": [
        {
          "name": "stdout",
          "output_type": "stream",
          "text": [
            "8\n",
            "32\n"
          ]
        }
      ],
      "source": [
        "#Решение задания 2\n",
        "sleep_minutes = int(input(\"Enter sleeping minutes: \"))\n",
        "if sleep_minutes < 0 or sleep_minutes > 24 * 60:\n",
        "    raise ValueError(\"Wrong number of minutes. Value must be in range 0-{}\".format(24 * 60))\n",
        "\n",
        "hours = sleep_minutes // 60\n",
        "minutes = sleep_minutes - hours * 60\n",
        "print(hours if hours != 24 else 0)\n",
        "print(minutes)"
      ]
    },
    {
      "cell_type": "markdown",
      "metadata": {
        "id": "Vxj4YJbkDMu7"
      },
      "source": [
        "****\n",
        "**Задание 3**\n",
        "\n",
        "Студент программы “Анализ данных в медицине” узнал, что ему для сна надо XX минут. В отличие от студента МФТИ, наш студент ложится спать после полуночи в HH часов и MM минут. Помогите определить, на какое время ему поставить будильник, чтобы он прозвенел ровно через XX минут после того, как он ляжет спать.\n",
        "На стандартный ввод, каждое в своей строке, подаются значения XX, HH и MM. Гарантируется, что студент программы “Fнализ данных в медицине” должен проснуться в тот же день, что и заснуть. Программа должна выводить время, на которое нужно поставить будильник: в первой строке часы, во второй — минуты.\n",
        "\n",
        "```\n",
        "Sample Input 1:\n",
        "480\n",
        "1\n",
        "2\n",
        "Sample Output 1:\n",
        "9\n",
        "2\n",
        "Sample Input 2:\n",
        "475\n",
        "1\n",
        "55\n",
        "Sample Output 2:\n",
        "9\n",
        "50\n",
        "\n",
        "```"
      ]
    },
    {
      "cell_type": "code",
      "execution_count": 48,
      "metadata": {
        "id": "gjcewJX3DesJ"
      },
      "outputs": [
        {
          "name": "stdout",
          "output_type": "stream",
          "text": [
            "2\n",
            "3\n"
          ]
        }
      ],
      "source": [
        "#Решение задания 3\n",
        "sleep_minutes = int(input(\"Enter sleeping minutes: \"))\n",
        "if sleep_minutes < 0 or sleep_minutes > 24*60 - 1:\n",
        "    raise ValueError(\"Wrong number of minutes. Value must be in range 0-{}\".format(24*60 - 1))\n",
        "\n",
        "remain_hours = 24 - sleep_minutes//60 - 1\n",
        "begin_hour = int(input(\"Enter the beginning of falling asleep hour: \"))\n",
        "if begin_hour < 0 or begin_hour > remain_hours:\n",
        "    raise ValueError(f\"Wrong number of beginning hour. Value must be in range 0-{remain_hours}\")\n",
        "\n",
        "min_value_minutes = 1 if begin_hour == 0 else 0\n",
        "max_value_minutes = min(24*60 - 1 - sleep_minutes - begin_hour*60, 59)\n",
        "begin_minutes = int(input(\"Enter the beginning of falling asleep minutes: \"))\n",
        "if begin_minutes < min_value_minutes or begin_minutes > max_value_minutes:\n",
        "    raise ValueError(f\"Wrong number of beginning minutes. Value must be in range {min_value_minutes}-{max_value_minutes}\")\n",
        "\n",
        "end_sleeping_minutes = begin_hour*60 + begin_minutes + sleep_minutes\n",
        "print(end_sleeping_minutes // 60)\n",
        "print(end_sleeping_minutes % 60)"
      ]
    },
    {
      "cell_type": "markdown",
      "metadata": {
        "id": "7g7d57UYDgj5"
      },
      "source": [
        "****\n",
        "**Задание 4**\n",
        "\n",
        "Напишите программу, на вход которой подается список чисел одной строкой. Программа должна для каждого элемента этого списка вывести сумму двух его соседей. Для элементов списка, являющихся крайними, одним из соседей считается элемент, находящийся на противоположном конце этого списка. Например, если на вход подаётся список \"1 3 5 6 10\", то на выход ожидается список \"13 6 9 15 7\" (без кавычек).\n",
        "\n",
        "Если на вход пришло только одно число, надо вывести его же.\n",
        "Вывод должен содержать одну строку с числами нового списка, разделенными пробелом.\n",
        "\n",
        "\n",
        "```\n",
        "Sample Input 1:\n",
        "1 3 5 6 10\n",
        "Sample Output 1:\n",
        "13 6 9 15 7\n",
        "Sample Input 2:\n",
        "10\n",
        "Sample Output 2:\n",
        "10\n",
        "```\n"
      ]
    },
    {
      "cell_type": "code",
      "execution_count": 64,
      "metadata": {
        "id": "lZuiLojnDpDI"
      },
      "outputs": [
        {
          "name": "stdout",
          "output_type": "stream",
          "text": [
            "4 0 4 0\n"
          ]
        }
      ],
      "source": [
        "#Решение задания 4\n",
        "numbers = input(\"Enter numbers separated with space: \").split()\n",
        "result = \"\"\n",
        "for index, number in enumerate(numbers):\n",
        "    a = int(numbers[index - 1])\n",
        "    b = 0\n",
        "    if index < len(numbers) - 1:\n",
        "        b = int(numbers[index + 1])\n",
        "    elif index > 0:\n",
        "        b = int(numbers[0])\n",
        "        \n",
        "    result += (' ' if len(result) > 0 else '') + str(a + b)\n",
        "    \n",
        "print(result)"
      ]
    },
    {
      "cell_type": "markdown",
      "metadata": {
        "id": "C9DdzDwdDvlG"
      },
      "source": [
        "****\n",
        "**Задание 5**\n",
        "\n",
        "Напишите программу, которая принимает на вход список чисел в одной строке и выводит на экран в одну строку значения, которые встречаются в нём более одного раза.\n",
        "\n",
        "Для решения задачи может пригодиться метод sort списка (а может и не пригодиться).\n",
        "\n",
        "Выводимые числа не должны повторяться, порядок их вывода может быть произвольным. Разделитель чисел - пробел\n"
      ]
    },
    {
      "cell_type": "code",
      "execution_count": 77,
      "metadata": {
        "id": "7DJQuzktD8xZ"
      },
      "outputs": [
        {
          "name": "stdout",
          "output_type": "stream",
          "text": [
            "\n"
          ]
        }
      ],
      "source": [
        "#Решение задания 5\n",
        "numbers = input(\"Enter numbers separated with space: \").split()\n",
        "all_numbers, double_numbers = set(), set()\n",
        "for number_str in numbers:\n",
        "    number = int(number_str)\n",
        "    if number in all_numbers:\n",
        "        double_numbers.add(number)\n",
        "    else:\n",
        "        all_numbers.add(number)\n",
        "        \n",
        "result = \"\"        \n",
        "for number in double_numbers:\n",
        "    result += (' ' if len(result) > 0 else '') + str(number)\n",
        "\n",
        "print(result)"
      ]
    },
    {
      "cell_type": "markdown",
      "metadata": {
        "id": "g1S48qv6EHjC"
      },
      "source": [
        "****\n",
        "**Задание 6**\n",
        "\n",
        "GC-состав является важной характеристикой геномных последовательностей и определяется как процентное соотношение суммы всех гуанинов и цитозинов к общему числу нуклеиновых оснований в геномной последовательности.\n",
        "\n",
        "Напишите программу, которая вычисляет процентное содержание символов G (гуанин) и C (цитозин) в введенной строке (программа не должна зависеть от регистра вводимых символов).\n",
        "Например, в строке \"acggtgttat\" процентное содержание символов G и C равно 4*0.1 * 100 = 40.0, где 4 - это количество символов G и C, а 10 - это длина строки.\n",
        "\n",
        "```\n",
        "Sample Input:\n",
        "acggtgttat\n",
        "Sample Output:\n",
        "40.0\n",
        "```\n"
      ]
    },
    {
      "cell_type": "code",
      "execution_count": 84,
      "metadata": {
        "id": "UmyyLKDlEMAb"
      },
      "outputs": [
        {
          "name": "stdout",
          "output_type": "stream",
          "text": [
            "0.0\n"
          ]
        }
      ],
      "source": [
        "#Решение задания 6\n",
        "genome = input(\"Enter genome string: \").lower()\n",
        "if len(genome) == 0:\n",
        "    raise ValueError(\"Incorrect genome\")\n",
        "\n",
        "print(round((genome.count('g') + genome.count('c')) / len(genome) * 100, 2))"
      ]
    },
    {
      "cell_type": "markdown",
      "metadata": {
        "id": "Hm7d16upETUx"
      },
      "source": [
        "****\n",
        "**Задание 7**\n",
        "\n",
        "Узнав, что ДНК не является случайной строкой, только что поступившие в МФТИ студенты группы аналитиков данных предложили использовать алгоритм сжатия, который сжимает повторяющиеся символы в строке.\n",
        "Кодирование осуществляется следующим образом:\n",
        "s = 'aaaabbсaa' преобразуется в 'a4b2с1a2', то есть группы одинаковых символов исходной строки заменяются на этот символ и количество его повторений в этой позиции строки.\n",
        "\n",
        "Напишите программу, которая считывает строку, кодирует её предложенным алгоритмом и выводит закодированную последовательность на стандартный вывод. Кодирование должно учитывать регистр символов.\n",
        "\n",
        "\n",
        "```\n",
        "Sample Input 1:\n",
        "aaaabbcaa\n",
        "Sample Output 1:\n",
        "a4b2c1a2\n",
        "Sample Input 2:\n",
        "abc\n",
        "Sample Output 2:\n",
        "a1b1c1\n",
        "Sample Input 3:\n",
        "AaAaBBBbbbCCc\n",
        "Sample Output 3:\n",
        "A1a1A1a1B3b3C2c1\n",
        "```\n"
      ]
    },
    {
      "cell_type": "code",
      "execution_count": 90,
      "metadata": {
        "id": "Gu7FS9kAEe2Q"
      },
      "outputs": [
        {
          "name": "stdout",
          "output_type": "stream",
          "text": [
            "A1a1A1a1B3b3C2c1\n"
          ]
        }
      ],
      "source": [
        "#Решение задания 7\n",
        "dna = input(\"Enter DNA: \")\n",
        "\n",
        "result = \"\"\n",
        "current_nucl = ''\n",
        "count = 0\n",
        "for nucl in dna:\n",
        "    if current_nucl != nucl:\n",
        "        if count > 0:\n",
        "            result += current_nucl + str(count)\n",
        "        current_nucl = nucl\n",
        "        count = 0\n",
        "        \n",
        "    count += 1\n",
        "    \n",
        "if count > 0:\n",
        "    result += current_nucl + str(count)\n",
        "\n",
        "print(result)"
      ]
    },
    {
      "cell_type": "markdown",
      "metadata": {
        "id": "Ky16NUTNEpr-"
      },
      "source": [
        "****\n",
        "**Задание 8**\n",
        "\n",
        "Напишите программу, которая считывает с консоли числа (по одному в строке) до тех пор, пока сумма введённых чисел не будет равна 0 и сразу после этого выводит сумму квадратов всех считанных чисел.\n",
        "Гарантируется, что в какой-то момент сумма введённых чисел окажется равной 0, после этого считывание продолжать не нужно.\n",
        "В примере мы считываем числа 1, -3, 5, -6, -10, 13; в этот момент замечаем, что сумма этих чисел равна нулю и выводим сумму их квадратов, не обращая внимания на то, что остались ещё не прочитанные значения.\n",
        "\n",
        "\n",
        "```\n",
        "Sample Input:\n",
        "1\n",
        "-3\n",
        "5\n",
        "-6\n",
        "-10\n",
        "13\n",
        "4\n",
        "-8\n",
        "Sample Output:\n",
        "340\n",
        "```"
      ]
    },
    {
      "cell_type": "code",
      "execution_count": 91,
      "metadata": {
        "id": "gSs8AHixFMwU"
      },
      "outputs": [
        {
          "name": "stdout",
          "output_type": "stream",
          "text": [
            "340\n"
          ]
        }
      ],
      "source": [
        "#Решение задания 8\n",
        "sum = 0\n",
        "result = 0\n",
        "while True:\n",
        "    number = int(input(\"Enter a number: \"))\n",
        "    result += number**2\n",
        "    sum += number\n",
        "    if sum == 0:\n",
        "        break\n",
        "    \n",
        "print(result)"
      ]
    },
    {
      "cell_type": "markdown",
      "metadata": {
        "id": "bPeSnwt4F73y"
      },
      "source": [
        "****\n",
        "**Задание 9**\n",
        "\n",
        "Самое время использовать математику. Вы поднимаетесь по лестнице. Количество ступенек в ней = n.\n",
        "\n",
        "На каждом этапе вы можете переступить либо одну, либо две ступеньки. Как много уникальных способов добраться до верха существует?\n",
        "\n",
        "*1<=n<=45*\n",
        "\n",
        "\n",
        "\n",
        "```\n",
        "Input: n = 2\n",
        "Output: 2\n",
        "Explanation: There are two ways to climb to the top.\n",
        "1. 1 step + 1 step\n",
        "2. 2 steps\n",
        "\n",
        "Input: n = 3\n",
        "Output: 3\n",
        "Explanation: There are three ways to climb to the top.\n",
        "1. 1 step + 1 step + 1 step\n",
        "2. 1 step + 2 steps\n",
        "3. 2 steps + 1 step\n",
        "```\n",
        "\n"
      ]
    },
    {
      "cell_type": "code",
      "execution_count": 29,
      "metadata": {
        "id": "HNhjOQZ7GdI5"
      },
      "outputs": [
        {
          "name": "stdout",
          "output_type": "stream",
          "text": [
            "1836311903\n"
          ]
        }
      ],
      "source": [
        "#Решение задания 9\n",
        "def fib(n, cache):\n",
        "    if cache.get(n):\n",
        "        return cache.get(n)\n",
        "    \n",
        "    if n < 3:\n",
        "        result = n\n",
        "    else:\n",
        "        result = fib(n - 1, cache) + fib(n - 2, cache)\n",
        "    \n",
        "    cache[n] = result\n",
        "    return result\n",
        "\n",
        "n = int(input(\"Enter number of steps: \"))\n",
        "min_value = 1\n",
        "max_value = 45\n",
        "if n < min_value or n > max_value:\n",
        "    raise ValueError(f\"Number of steps must be in range {min_value}-{max_value}\")\n",
        "\n",
        "print(fib(n, {}))\n"
      ]
    },
    {
      "cell_type": "markdown",
      "metadata": {
        "id": "T8A0EHJTG03s"
      },
      "source": [
        "****\n",
        "**Задание 10**\n",
        "\n",
        "Напишите функцию, чтобы найти самый длинный префикс в листе, составленном из строк.\n",
        "\n",
        "Если общего префикса нет - верните пустую строку.\n",
        "\n",
        "\n",
        "\n",
        "```\n",
        "Input 1: strs = [\"flower\",\"flow\",\"flight\"]\n",
        "Output 1: \"fl\"\n",
        "\n",
        "Input 2: strs = [\"dog\",\"racecar\",\"car\"]\n",
        "Output 2: \"\"\n",
        "Explanation: There is no common prefix among the input strings.\n",
        "```\n",
        "\n"
      ]
    },
    {
      "cell_type": "code",
      "execution_count": 37,
      "metadata": {
        "id": "T-TeO2QoHIMR"
      },
      "outputs": [
        {
          "name": "stdout",
          "output_type": "stream",
          "text": [
            "d\n"
          ]
        }
      ],
      "source": [
        "#Решение задания 10\n",
        "def prefix(list):\n",
        "    if len(list) == 0:\n",
        "        return \"\"\n",
        "\n",
        "    result = list[0]\n",
        "    for word in list:\n",
        "        while len(result) > 0:\n",
        "            if result[:len(result)] == word[:len(result)]:\n",
        "                break\n",
        "            result = result[:len(result) - 1]\n",
        "            \n",
        "        if len(result) == 0:\n",
        "            break\n",
        "    \n",
        "    return result"
      ]
    },
    {
      "cell_type": "code",
      "execution_count": null,
      "metadata": {
        "id": "gaBVonTZ9x91"
      },
      "outputs": [],
      "source": []
    }
  ],
  "metadata": {
    "colab": {
      "collapsed_sections": [],
      "provenance": []
    },
    "kernelspec": {
      "display_name": "Python 3.9.10 64-bit (system)",
      "language": "python",
      "name": "python3"
    },
    "language_info": {
      "codemirror_mode": {
        "name": "ipython",
        "version": 3
      },
      "file_extension": ".py",
      "mimetype": "text/x-python",
      "name": "python",
      "nbconvert_exporter": "python",
      "pygments_lexer": "ipython3",
      "version": "3.9.10"
    },
    "vscode": {
      "interpreter": {
        "hash": "2d4455a2e61ae3957eb3f2dc120d37d8062efc997899814c5a66da8bebe4f69b"
      }
    }
  },
  "nbformat": 4,
  "nbformat_minor": 0
}
