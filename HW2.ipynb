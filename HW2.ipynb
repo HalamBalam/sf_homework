{
  "cells": [
    {
      "cell_type": "markdown",
      "metadata": {
        "id": "2GJcyIoN4arc"
      },
      "source": [
        "#Reversed integer"
      ]
    },
    {
      "cell_type": "markdown",
      "metadata": {
        "id": "nDpM0sXf4dv5"
      },
      "source": [
        "Вам дано число целого типа ``a``. Вам необходимо написать функцию, которая принимает это число на вход, а на выход выдает целое число, цифры в котором записаны в обратном порядке.\n",
        "\n",
        "\n",
        "**Sample Input 1:**\n",
        "\n",
        "``\n",
        "a = 123\n",
        "``\n",
        "\n",
        "**Sample Output 1:**\n",
        "\n",
        "``321``\n",
        "\n",
        "**Sample Input 2:**\n",
        "\n",
        "``\n",
        "a = 120\n",
        "``\n",
        "\n",
        "**Sample Output 2:**\n",
        "\n",
        "``21``\n",
        "\n",
        "**Sample Input 3:**\n",
        "\n",
        "``\n",
        "-123\n",
        "``\n",
        "\n",
        "**Sample Output 3:**\n",
        "\n",
        "``321``"
      ]
    },
    {
      "cell_type": "code",
      "execution_count": 6,
      "metadata": {
        "id": "zy1TNSPU6ARi"
      },
      "outputs": [
        {
          "name": "stdout",
          "output_type": "stream",
          "text": [
            "321\n",
            "21\n",
            "321\n"
          ]
        }
      ],
      "source": [
        "def reverse_number(a):\n",
        "    \"\"\" Returns a number with inversed digits of argument.\n",
        "\n",
        "    Args:\n",
        "        a (int): input number.\n",
        "    \"\"\"\n",
        "    result = str(a if a > 0 else -a)\n",
        "    return int(result[::-1])\n",
        "\n",
        "print(reverse_number(123))\n",
        "print(reverse_number(120))\n",
        "print(reverse_number(-123))"
      ]
    },
    {
      "cell_type": "markdown",
      "metadata": {
        "id": "GT_lUMYz5YfQ"
      },
      "source": [
        "#Выколотый квадрат\n"
      ]
    },
    {
      "cell_type": "markdown",
      "metadata": {
        "id": "fHOx6Dnu5cEQ"
      },
      "source": [
        "Напишите функцию, которая принимает единственное число ``n: int``. Это число определяет длину стороны квадрата. Функция должна нарисовать квадрат из звездочек, при этом звездочки должны быть только на ребрах квадрата, центр должен быть выколот.\n",
        "\n",
        "**Sample Input 1:**\n",
        "\n",
        "``\n",
        "n = 5\n",
        "``\n",
        "\n",
        "**Sample Output 1:**\n",
        "```\n",
        "* * * * *\n",
        "*       *\n",
        "*       *\n",
        "*       *\n",
        "* * * * *\n",
        "\n",
        "```"
      ]
    },
    {
      "cell_type": "code",
      "execution_count": 1,
      "metadata": {
        "id": "JUMn7OVK5_r0"
      },
      "outputs": [
        {
          "name": "stdout",
          "output_type": "stream",
          "text": [
            "*  *  *  *  *\n",
            "*           *\n",
            "*           *\n",
            "*           *\n",
            "*  *  *  *  *\n"
          ]
        }
      ],
      "source": [
        "def make_square(n):\n",
        "    \"\"\" Draws a square with n-length side.\n",
        "\n",
        "    Args:\n",
        "        n (int): length of the side.\n",
        "    \"\"\"\n",
        "    if n < 2:\n",
        "        raise ValueError(\"Length of side must be larger than 1\")\n",
        "\n",
        "    print('* ' + ' * '*(n - 2) + ' *') # print top\n",
        "    for i in range(1, n - 1):\n",
        "        print('* ' + '   '*(n - 2) + ' *') # print sides\n",
        "    print('* ' + ' * '*(n - 2) + ' *') # print bottom\n",
        "    \n",
        "make_square(5)"
      ]
    },
    {
      "cell_type": "markdown",
      "metadata": {
        "id": "8oZaq3fE6f79"
      },
      "source": [
        "#Пермутации"
      ]
    },
    {
      "cell_type": "markdown",
      "metadata": {
        "id": "ylJnUpIk6jrX"
      },
      "source": [
        "Вам дан массив с целыми числами ``nums``. Напишите функцию, которая принимает на вход данный массив и возвращает все возможные пермутации с данными числами. Возвращать массивы можно в любом порядке.\n",
        "\n",
        "**Sample Input 1:**\n",
        "\n",
        "``\n",
        "nums = [1,2,3]\n",
        "``\n",
        "\n",
        "**Sample Output 1:**\n",
        "\n",
        "``[[1,2,3],[1,3,2],[2,1,3],[2,3,1],[3,1,2],[3,2,1]]``\n",
        "\n",
        "**Sample Input 2:**\n",
        "\n",
        "``\n",
        "nums = [0,1]\n",
        "``\n",
        "\n",
        "**Sample Output 2:**\n",
        "\n",
        "``[[0,1],[1,0]]``\n",
        "\n",
        "**Sample Input 3:**\n",
        "\n",
        "``\n",
        "nums = [1]\n",
        "``\n",
        "\n",
        "**Sample Output 3:**\n",
        "\n",
        "``[[1]]``"
      ]
    },
    {
      "cell_type": "code",
      "execution_count": 19,
      "metadata": {
        "id": "AzhJABzn7GYR"
      },
      "outputs": [
        {
          "name": "stdout",
          "output_type": "stream",
          "text": [
            "[[1, 3, 2], [1, 2, 3], [2, 1, 3], [3, 2, 1], [3, 1, 2], [2, 3, 1]]\n",
            "[[0, 1], [1, 0]]\n",
            "[[1]]\n"
          ]
        }
      ],
      "source": [
        "def permutations(nums):\n",
        "    \"\"\" Returns all permutations of <nums> array.\n",
        "\n",
        "    Args:\n",
        "        nums (array<int>): Array of nums, e.g.: [1, 2, 3].\n",
        "    \n",
        "    Algorithm desc:\n",
        "    All numbers from the list are alternately inserted into the zero index\n",
        "    (the first cycle). For each number in the zero index, a cycle is started\n",
        "    from the 1st to the last index (the second cycle) and all numbers except\n",
        "    the current one from the zero index (the third cycle) are replaced there.\n",
        "    \"\"\"\n",
        "    result_set = set()\n",
        "    for i in range(0, len(nums)):\n",
        "        arr = nums.copy()\n",
        "        arr[0], arr[i] = arr[i], arr[0]\n",
        "        result_set.add(tuple(arr))\n",
        "        \n",
        "        for j in range(1, len(nums)):\n",
        "            for k in range(0, len(nums)):\n",
        "                if k == i:\n",
        "                    continue\n",
        "                temp = arr.copy()\n",
        "                temp[j], temp[k] = temp[k], temp[j]\n",
        "                result_set.add(tuple(temp))\n",
        "            \n",
        "    result = []\n",
        "    for t in result_set:\n",
        "        result.append(list(t))\n",
        "        \n",
        "    return result\n",
        "\n",
        "print(permutations([1, 2, 3]))\n",
        "print(permutations([0, 1]))\n",
        "print(permutations([1]))"
      ]
    },
    {
      "cell_type": "markdown",
      "metadata": {
        "id": "MDEu6tZQYATy"
      },
      "source": [
        "### Почти двойной факториал\n",
        "Дано натуральное $N \\leqslant 100$.  Выведите произведение всех чётных натуральных чисел, не превосходящих $N$."
      ]
    },
    {
      "cell_type": "code",
      "execution_count": 22,
      "metadata": {
        "id": "fjCKZc4Q6aId"
      },
      "outputs": [],
      "source": [
        "def almost_double_factorial(n):\n",
        "  \"\"\" Returns the multipllication of even numbers not exceeding n.\n",
        "\n",
        "  Args:\n",
        "      n (int): Upper bound of numbers.\n",
        "\n",
        "  Returns:\n",
        "      int: Result of multipllication.\n",
        "  \"\"\"\n",
        "  result = 1\n",
        "  for i in range(2, n + 1, 2):\n",
        "    result *= i\n",
        "    \n",
        "  return result"
      ]
    },
    {
      "cell_type": "code",
      "execution_count": 23,
      "metadata": {
        "id": "5GgcNVy1YAT0"
      },
      "outputs": [],
      "source": [
        "N = 25\n",
        "#YOUR CODE\n",
        "N_double_fact = almost_double_factorial(N)\n",
        "\n",
        "assert N_double_fact == 1961990553600, \"Something is wrong! Please try again\"\n",
        "\n",
        "N = 100\n",
        "N_double_fact = almost_double_factorial(N)\n",
        "assert N_double_fact == 34243224702511976248246432895208185975118675053719198827915654463488000000000000, \"Something is wrong! Please try again\""
      ]
    },
    {
      "cell_type": "markdown",
      "metadata": {
        "id": "A57_204nYAT3"
      },
      "source": [
        "### Хитрая сортировка\n",
        "\n",
        "Пусть у нас есть следующий список, в котором элементы -- tuple из строк:\n",
        "\n",
        "``items = [('one', 'two'), ('three', 'four'), ('five', 'six'), ('string', 'a')]``\n",
        "\n",
        "Мы хотим отсортировать этот список по последней букве второго элемента каждого ``tuple``, т.е. получить такой список:\n",
        "\n",
        "``sorted_items = [('string', 'a'), ('one', 'two'), ('three', 'four'), ('five', 'six')]``.\n",
        "Что нужно вставить вместо \"###\" в следующем выражении, чтобы получить сортировку?\n",
        "\n",
        "``sorted_items = sorted(items, key=lambda x: ###)``"
      ]
    },
    {
      "cell_type": "code",
      "execution_count": 24,
      "metadata": {
        "id": "SnIk7m_8YAT4"
      },
      "outputs": [],
      "source": [
        "items = [('one', 'two'), ('three', 'four'), ('five', 'six'), ('string', 'a')]\n",
        "\n",
        "sorted_items = sorted(items, key=lambda x: x[1][-1])\n",
        "                      \n",
        "assert sorted_items == [('string', 'a'), ('one', 'two'), ('three', 'four'), ('five', 'six')], \\\n",
        "\"Something is wrong! Please try again\""
      ]
    },
    {
      "cell_type": "markdown",
      "metadata": {
        "id": "f_ggknIxYAT7"
      },
      "source": [
        "### Еще строки\n",
        "\n",
        "Вашей программе на вход подаются три строки ``s, a, b``, состоящие из строчных латинских букв.\n",
        "За одну операцию вы можете заменить все вхождения строки ``a`` в строку ``s`` на строку ``b``.\n",
        "\n",
        "Например, ``s = \"abab\", a = \"ab\", b = \"ba\"``, тогда после выполнения одной операции строка ``s`` перейдет в строку ``\"baba\"``, после выполнения двух и операций – в строку ``\"bbaa\"``, и дальнейшие операции не будут изменять строку ``s``.\n",
        "\n",
        "Необходимо узнать, после какого минимального количества операций в строке ``s`` не останется вхождений строки ``a``. Если операций потребуется более 1000, выведите ``Impossible``.\n",
        "\n",
        "Выведите одно число – минимальное число операций, после применения которых в строке ``s`` не останется вхождений строки ``a``, или ``Impossible``, если операций потребуется более 1000.\n",
        "\n",
        "**Sample Input 1:**\n",
        "\n",
        "``\n",
        "ababa\n",
        "a\n",
        "b\n",
        "``\n",
        "\n",
        "**Sample Output 1:**\n",
        "\n",
        "``1``\n",
        "\n",
        "**Sample Input 2:**\n",
        "\n",
        "``ababa\n",
        "b\n",
        "a``\n",
        "\n",
        "**Sample Output 2:**\n",
        "\n",
        "``1``\n",
        "\n",
        "**Sample Input 3:**\n",
        "\n",
        "``ababa\n",
        "c\n",
        "c``\n",
        "\n",
        "**Sample Output 3:**\n",
        "\n",
        "``0``\n",
        "\n",
        "**Sample Input 4:**\n",
        "\n",
        "``ababac\n",
        "c\n",
        "c``\n",
        "\n",
        "**Sample Output 4:**\n",
        "\n",
        "``Impossible``\n"
      ]
    },
    {
      "cell_type": "code",
      "execution_count": 34,
      "metadata": {
        "id": "JcLMmkF6YAT8"
      },
      "outputs": [
        {
          "name": "stdout",
          "output_type": "stream",
          "text": [
            "1\n",
            "1\n",
            "0\n",
            "Impossible\n"
          ]
        }
      ],
      "source": [
        "def count_replacements(s, a, b):\n",
        "    \"\"\" Prints the replacements that need to be made in order\n",
        "    to replace all occurrences of <a> with <b> in string <s>.\n",
        "\n",
        "    Args:\n",
        "        s (string): basic string\n",
        "        a (string): replaced string\n",
        "        b (string): new string\n",
        "    \"\"\"\n",
        "    count = 0\n",
        "    while count <= 1000:\n",
        "        if s.find(a) >= 0:\n",
        "            s = s.replace(a, b)\n",
        "            count += 1\n",
        "        else:\n",
        "            break\n",
        "    print(\"Impossible\" if count > 1000 else count)\n",
        "\n",
        "count_replacements(\"ababa\", \"a\", \"b\")\n",
        "count_replacements(\"ababa\", \"b\", \"a\")\n",
        "count_replacements(\"ababa\", \"c\", \"c\")\n",
        "count_replacements(\"ababac\", \"c\", \"c\")"
      ]
    },
    {
      "cell_type": "markdown",
      "metadata": {
        "id": "3QOrzr1_YAT_"
      },
      "source": [
        "### Создание массивов\n",
        "Дан массив $A[0,\\ldots,N-1]$. Напишите функцию, принимающую один обязательный аргумент A и один опциональный аргумент ``erase``, по умолчанию равный 1. Возвратите массив $B[0,\\ldots, N-1]$, где $B_i = A_0 + \\ldots + A_{i}$ --- массив частичных сумм массива $A$, предварительно удалив из массива $B$ все элементы, равные erase. Постарайтесь сделать это за линейное время без использования Numpy."
      ]
    },
    {
      "cell_type": "code",
      "execution_count": 8,
      "metadata": {
        "id": "GSeVXF-xYAUA"
      },
      "outputs": [],
      "source": [
        "def cumsum_and_erase(A, erase=1):\n",
        "    \"\"\" Returns an array with an increasing sum of the elements of the original\n",
        "        array.\n",
        "\n",
        "    Args:\n",
        "        A (list): original array,\n",
        "        erase (int, optional): ignored elements. Defaults to 1.\n",
        "\n",
        "    Returns:\n",
        "        list: created array.\n",
        "    \"\"\"\n",
        "    B = []\n",
        "    sum = 0\n",
        "    for n in A:\n",
        "        sum += n\n",
        "        if sum != erase:\n",
        "            B.append(sum)\n",
        "        \n",
        "    return B\n",
        "\n",
        "A = [5, 1, 4, 5, 14]\n",
        "B = cumsum_and_erase(A, erase=10)\n",
        "\n",
        "assert B == [5, 6, 15, 29], \"Something is wrong! Please try again\""
      ]
    },
    {
      "cell_type": "markdown",
      "metadata": {
        "id": "xvOBFjavYAUD"
      },
      "source": [
        "### Обработка текста\n",
        "Дан список текстов, слова в которых разделены пробелами (можно считать, что знаков препинания нет). Часть слов является \"мусорными\": в них присутствуют цифры и спецсимволы. Отфильтруйте такие слова из каждого текста. Используйте функции ``str.split``, ``str.isalpha``, ``str.join``, а также [генератор filter](http://pythonicway.com/python-functinal-programming)."
      ]
    },
    {
      "cell_type": "code",
      "execution_count": 1,
      "metadata": {
        "id": "GBzS-UHZYAUE"
      },
      "outputs": [],
      "source": [
        "sentences = ['1 thousand devils', 'My name is 9Pasha', 'Room #125 costs $100']\n",
        "\n",
        "def process(sentences):\n",
        "    \"\"\" Removes words from the text, that contains any non-alpha symbol.\n",
        "    \n",
        "    Args:\n",
        "        sentences (list): list of sentences.\n",
        "\n",
        "    Returns:\n",
        "        list: sentences with words without non-alpha symbols.\n",
        "    \"\"\"\n",
        "    result = []\n",
        "    for sentence in sentences:\n",
        "        word_list = sentence.split()\n",
        "        word_list = list(filter(lambda l: l.isalpha(), word_list))\n",
        "        result.append(\" \".join(word_list))\n",
        "    \n",
        "    return result\n",
        "\n",
        "assert process(sentences) == ['thousand devils', 'My name is', 'Room costs'], \\\n",
        "\"Something is wrong! Please try again\""
      ]
    },
    {
      "cell_type": "markdown",
      "metadata": {
        "id": "lNCcTYSRow1j"
      },
      "source": [
        "#Расстояние Хэмминга"
      ]
    },
    {
      "cell_type": "markdown",
      "metadata": {
        "id": "8jfcOp6ckl30"
      },
      "source": [
        "Вам даны две строки, ``a`` и ``b`` одинаковой длины. Необходимо посчитать расстояние Хэмминга между ними, которое определяется как количество символов, которые не совпадают между двумя строками в одинаковой позиции.\n",
        "\n",
        "**Sample Input 1:**\n",
        "\n",
        "```\n",
        "a = 'AGCT'\n",
        "b = 'ACGT'\n",
        "hamming(a, b)\n",
        "```\n",
        "\n",
        "**Sample Output 1:**\n",
        "\n",
        "``2``"
      ]
    },
    {
      "cell_type": "code",
      "execution_count": 6,
      "metadata": {
        "id": "d_IYhoPcg3Ru"
      },
      "outputs": [],
      "source": [
        "def hamming(a, b):\n",
        "    \"\"\" Returns the number of mismatched characters in the same position.\n",
        "\n",
        "    Args:\n",
        "        a (string): any string,\n",
        "        b (string): any string with the same length with <a>.\n",
        "\n",
        "    Returns:\n",
        "        int: mismatching characters.\n",
        "    \"\"\"\n",
        "    if len(a) != len(b):\n",
        "        raise ValueError(\"The strings must be the same length.\")\n",
        "    \n",
        "    result = 0\n",
        "    for i in range(0, len(a)):\n",
        "        if a[i] != b[i]:\n",
        "            result += 1\n",
        "    return result\n",
        "\n",
        "assert hamming(\"AGCT\", \"ACGT\") == 2"
      ]
    },
    {
      "cell_type": "markdown",
      "metadata": {
        "id": "iA7EQgga9OB-"
      },
      "source": [
        "### Numpy"
      ]
    },
    {
      "cell_type": "code",
      "execution_count": 7,
      "metadata": {
        "id": "HEFAaMjP9CRh"
      },
      "outputs": [
        {
          "ename": "ModuleNotFoundError",
          "evalue": "No module named 'scipy'",
          "output_type": "error",
          "traceback": [
            "\u001b[1;31m---------------------------------------------------------------------------\u001b[0m",
            "\u001b[1;31mModuleNotFoundError\u001b[0m                       Traceback (most recent call last)",
            "Cell \u001b[1;32mIn [7], line 3\u001b[0m\n\u001b[0;32m      1\u001b[0m \u001b[38;5;28;01mimport\u001b[39;00m \u001b[38;5;21;01mnumpy\u001b[39;00m \u001b[38;5;28;01mas\u001b[39;00m \u001b[38;5;21;01mnp\u001b[39;00m\n\u001b[0;32m      2\u001b[0m \u001b[38;5;28;01mimport\u001b[39;00m \u001b[38;5;21;01mrandom\u001b[39;00m\n\u001b[1;32m----> 3\u001b[0m \u001b[38;5;28;01mimport\u001b[39;00m \u001b[38;5;21;01mscipy\u001b[39;00m\u001b[38;5;21;01m.\u001b[39;00m\u001b[38;5;21;01mstats\u001b[39;00m \u001b[38;5;28;01mas\u001b[39;00m \u001b[38;5;21;01msps\u001b[39;00m\n",
            "\u001b[1;31mModuleNotFoundError\u001b[0m: No module named 'scipy'"
          ]
        }
      ],
      "source": [
        "import numpy as np\n",
        "import random\n",
        "import scipy.stats as sps"
      ]
    },
    {
      "cell_type": "markdown",
      "metadata": {
        "id": "6Bul4Uue9Ww9"
      },
      "source": [
        "### Задание 1\n",
        "В первой задаче вам предлагается перемножить две квадратные матрицы двумя способами -- без использования пакета ***numpy*** и с ним."
      ]
    },
    {
      "cell_type": "code",
      "execution_count": 25,
      "metadata": {
        "id": "ClrydYj59XPc"
      },
      "outputs": [
        {
          "name": "stdout",
          "output_type": "stream",
          "text": [
            "Dimension of matrix 'a': 2\n",
            "Dimension of matrix 'b': 2\n",
            "Shape of matrix 'a': (100, 100)\n",
            "Shape of matrix 'b': (100, 100)\n",
            "[[0.71432454 0.30852382 0.21474907 ... 0.37004502 0.80398597 0.14615115]\n",
            " [0.31894921 0.03687076 0.22399324 ... 0.85086116 0.92541341 0.16648341]\n",
            " [0.28954347 0.42732181 0.78920055 ... 0.19202235 0.90932493 0.27147185]\n",
            " ...\n",
            " [0.81467427 0.05976723 0.08659001 ... 0.10502486 0.35530931 0.84859568]\n",
            " [0.34253976 0.6074811  0.57128171 ... 0.01085731 0.87432133 0.55901981]\n",
            " [0.84189008 0.44870296 0.4152263  ... 0.69003146 0.20509809 0.05964402]]\n",
            "[[0.75413009 0.94629248 0.92030577 ... 0.64975574 0.45478538 0.65295616]\n",
            " [0.47168757 0.84689451 0.01214723 ... 0.13086868 0.54426829 0.49972957]\n",
            " [0.40242543 0.53373656 0.1399738  ... 0.94067239 0.74359545 0.2245847 ]\n",
            " ...\n",
            " [0.86540673 0.66780618 0.63371649 ... 0.92976671 0.47857687 0.68456339]\n",
            " [0.52663152 0.66891377 0.48104681 ... 0.96407079 0.4726209  0.01956681]\n",
            " [0.92497365 0.36214699 0.76160326 ... 0.32411866 0.97161388 0.63418262]]\n"
          ]
        }
      ],
      "source": [
        "# Для генерации матриц используем фукнцию random -- она используется для генерации случайных объектов \n",
        "# функция sample создает случайную выборку. В качестве аргумента ей передается кортеж (i,j),  \n",
        "# здесь i -- число строк, j -- число столбцов.\n",
        "a = np.random.sample((100, 100))\n",
        "b = np.random.sample((100, 100))\n",
        "\n",
        "# Выведите размерность (ранг) каждой матрицы с помощью функции ndim.\n",
        "# Используйте функцию shape, что она вывела?\n",
        "\n",
        "# ========\n",
        "print(\"Dimension of matrix 'a':\", a.ndim)\n",
        "print(\"Dimension of matrix 'b':\", b.ndim)\n",
        "\n",
        "print(\"Shape of matrix 'a':\", a.shape)\n",
        "print(\"Shape of matrix 'b':\", b.shape)\n",
        "# ========\n",
        "print(a)\n",
        "print(b)"
      ]
    },
    {
      "cell_type": "code",
      "execution_count": 46,
      "metadata": {
        "id": "yeejqk_z9aXD"
      },
      "outputs": [],
      "source": [
        "def mult(a, b):\n",
        "    \"\"\"  \n",
        "    a: list of \"size\" lists, each contains \"size\" floats --- первая матрица-аргумент\n",
        "    b: list of \"size\" lists, each contains \"size\" floats --- вторая матрица-аргумент\n",
        "    return c: list of \"size\" lists, each contains \"size\" floats --- матрица, являющаяся результатом умножения матриц a и b\n",
        "    \n",
        "    Функция принимает на вход две матрицы: a и b размерностью size x size\n",
        "    Возвращает матрицу их произведения a * b = c \n",
        "\n",
        "    Реализуйте умножение матриц без использования функций из пакета numpy (может помочь функция zip)\n",
        "    \"\"\"\n",
        "    result = []\n",
        "    for row_a in a:\n",
        "        row_result = []\n",
        "        for i in range(0, len(b)):\n",
        "            col_b =  b[:, i]\n",
        "            value = 0\n",
        "            for j in range(0, len(a)):\n",
        "                value += row_a[j] * col_b[j]\n",
        "            row_result.append(value)\n",
        "            \n",
        "        result.append(row_result)\n",
        "        \n",
        "    return result"
      ]
    },
    {
      "cell_type": "code",
      "execution_count": 45,
      "metadata": {
        "id": "ul0QaXni9cAq"
      },
      "outputs": [],
      "source": [
        "def np_mult(a, b):\n",
        "    \"\"\"  \n",
        "    a: np.array[size, size]             --- первая матрица-аргумент\n",
        "    b: np.array[size, size] --- вторая матрица-аргумент\n",
        "    return c: np.array[size, size]       --- матрица, являющаяся результатом умножения матриц a и b\n",
        "    \n",
        "    Функция принимает на вход две матрицы: a и b размерностью size x size\n",
        "    Возвращает матрицу их произведения a * b = c \n",
        "\n",
        "    Реализуйте умножение матриц, используя функции из пакета numpy\n",
        "    \"\"\"\n",
        "    return a.dot(b)"
      ]
    },
    {
      "cell_type": "code",
      "execution_count": 47,
      "metadata": {
        "id": "gFdt-Kbe9gWi"
      },
      "outputs": [
        {
          "name": "stdout",
          "output_type": "stream",
          "text": [
            "CPU times: total: 0 ns\n",
            "Wall time: 0 ns\n"
          ]
        }
      ],
      "source": [
        "%%time\n",
        "# засечем время работы функции без NumPy\n",
        "M1 = mult(a, b)"
      ]
    },
    {
      "cell_type": "code",
      "execution_count": 48,
      "metadata": {
        "id": "F5QOtMj19h4n"
      },
      "outputs": [
        {
          "name": "stdout",
          "output_type": "stream",
          "text": [
            "CPU times: total: 0 ns\n",
            "Wall time: 0 ns\n"
          ]
        }
      ],
      "source": [
        "%%time\n",
        "# засечем время работы функции с NumPy\n",
        "M2 = np_mult(a, b)"
      ]
    },
    {
      "cell_type": "code",
      "execution_count": 49,
      "metadata": {
        "id": "BTDTjNjk9i3s"
      },
      "outputs": [],
      "source": [
        "# проверим корректность\n",
        "assert np.allclose(np.array(M1), M2)"
      ]
    },
    {
      "cell_type": "code",
      "execution_count": null,
      "metadata": {
        "id": "bLQ-E_mC9j6D"
      },
      "outputs": [],
      "source": []
    }
  ],
  "metadata": {
    "colab": {
      "collapsed_sections": [],
      "provenance": []
    },
    "kernelspec": {
      "display_name": "Python 3.9.10 64-bit (system)",
      "language": "python",
      "name": "python3"
    },
    "language_info": {
      "codemirror_mode": {
        "name": "ipython",
        "version": 3
      },
      "file_extension": ".py",
      "mimetype": "text/x-python",
      "name": "python",
      "nbconvert_exporter": "python",
      "pygments_lexer": "ipython3",
      "version": "3.9.10"
    },
    "vscode": {
      "interpreter": {
        "hash": "2d4455a2e61ae3957eb3f2dc120d37d8062efc997899814c5a66da8bebe4f69b"
      }
    }
  },
  "nbformat": 4,
  "nbformat_minor": 0
}
