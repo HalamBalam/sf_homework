{
 "cells": [
  {
   "cell_type": "code",
   "execution_count": 1,
   "metadata": {},
   "outputs": [],
   "source": [
    "import pandas as pd\n",
    "melb_df = pd.read_csv('data\\citibike-tripdata.csv', sep=',')"
   ]
  },
  {
   "cell_type": "code",
   "execution_count": 2,
   "metadata": {},
   "outputs": [],
   "source": [
    "melb_df['starttime'] = pd.to_datetime(melb_df['starttime'])\n",
    "melb_df['stoptime'] = pd.to_datetime(melb_df['stoptime'])"
   ]
  },
  {
   "cell_type": "code",
   "execution_count": 5,
   "metadata": {},
   "outputs": [],
   "source": [
    "melb_df['trip duration'] = melb_df['stoptime'] - melb_df['starttime']"
   ]
  },
  {
   "cell_type": "code",
   "execution_count": 10,
   "metadata": {},
   "outputs": [],
   "source": [
    "def get_weekend(starttime):\n",
    "    return 1 if starttime.dayofweek > 4 else 0\n",
    "\n",
    "melb_df['weekend'] = melb_df['starttime'].apply(get_weekend)"
   ]
  },
  {
   "cell_type": "code",
   "execution_count": 16,
   "metadata": {},
   "outputs": [],
   "source": [
    "def get_time_of_day(starttime):\n",
    "    if 0 <= starttime.hour <= 6:\n",
    "        return 'night'\n",
    "    elif 6 < starttime.hour <= 12:\n",
    "        return 'morning'\n",
    "    elif 12 < starttime.hour <= 18:\n",
    "        return 'day'\n",
    "    elif 18 < starttime.hour <= 23:\n",
    "        return 'evening'\n",
    "    else:\n",
    "        return 'error'\n",
    "    \n",
    "melb_df['time_of_day'] = melb_df['starttime'].apply(get_time_of_day)"
   ]
  },
  {
   "cell_type": "code",
   "execution_count": 20,
   "metadata": {},
   "outputs": [
    {
     "data": {
      "text/plain": [
       "9.480411004308916"
      ]
     },
     "execution_count": 20,
     "metadata": {},
     "output_type": "execute_result"
    }
   ],
   "source": [
    "melb_df['time_of_day'].value_counts()\n",
    "\n",
    "143012 / 15085"
   ]
  }
 ],
 "metadata": {
  "kernelspec": {
   "display_name": "Python 3.9.10 64-bit",
   "language": "python",
   "name": "python3"
  },
  "language_info": {
   "codemirror_mode": {
    "name": "ipython",
    "version": 3
   },
   "file_extension": ".py",
   "mimetype": "text/x-python",
   "name": "python",
   "nbconvert_exporter": "python",
   "pygments_lexer": "ipython3",
   "version": "3.9.10"
  },
  "orig_nbformat": 4,
  "vscode": {
   "interpreter": {
    "hash": "2d4455a2e61ae3957eb3f2dc120d37d8062efc997899814c5a66da8bebe4f69b"
   }
  }
 },
 "nbformat": 4,
 "nbformat_minor": 2
}
