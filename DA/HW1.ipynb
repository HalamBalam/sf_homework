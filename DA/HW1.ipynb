{
 "cells": [
  {
   "cell_type": "code",
   "execution_count": 42,
   "metadata": {},
   "outputs": [],
   "source": [
    "import pandas as pd\n",
    "import pandasql\n",
    "import sqlite3"
   ]
  },
  {
   "cell_type": "code",
   "execution_count": 2,
   "metadata": {},
   "outputs": [
    {
     "data": {
      "text/html": [
       "<div>\n",
       "<style scoped>\n",
       "    .dataframe tbody tr th:only-of-type {\n",
       "        vertical-align: middle;\n",
       "    }\n",
       "\n",
       "    .dataframe tbody tr th {\n",
       "        vertical-align: top;\n",
       "    }\n",
       "\n",
       "    .dataframe thead th {\n",
       "        text-align: right;\n",
       "    }\n",
       "</style>\n",
       "<table border=\"1\" class=\"dataframe\">\n",
       "  <thead>\n",
       "    <tr style=\"text-align: right;\">\n",
       "      <th></th>\n",
       "      <th>Cust_ID</th>\n",
       "      <th>Purchase</th>\n",
       "      <th>Cheq_Bal</th>\n",
       "      <th>Sav_Bal</th>\n",
       "      <th>Debt_Bal</th>\n",
       "      <th>Joint_Acct</th>\n",
       "      <th>Age</th>\n",
       "      <th>Date</th>\n",
       "    </tr>\n",
       "  </thead>\n",
       "  <tbody>\n",
       "    <tr>\n",
       "      <th>0</th>\n",
       "      <td>1</td>\n",
       "      <td>0</td>\n",
       "      <td>1739.48</td>\n",
       "      <td>26918.18</td>\n",
       "      <td>12563.93</td>\n",
       "      <td>0</td>\n",
       "      <td>49</td>\n",
       "      <td>NaT</td>\n",
       "    </tr>\n",
       "    <tr>\n",
       "      <th>1</th>\n",
       "      <td>2</td>\n",
       "      <td>0</td>\n",
       "      <td>2862.35</td>\n",
       "      <td>23093.67</td>\n",
       "      <td>15457.88</td>\n",
       "      <td>0</td>\n",
       "      <td>39</td>\n",
       "      <td>NaT</td>\n",
       "    </tr>\n",
       "    <tr>\n",
       "      <th>2</th>\n",
       "      <td>3</td>\n",
       "      <td>0</td>\n",
       "      <td>2296.66</td>\n",
       "      <td>18037.33</td>\n",
       "      <td>12721.89</td>\n",
       "      <td>0</td>\n",
       "      <td>52</td>\n",
       "      <td>NaT</td>\n",
       "    </tr>\n",
       "    <tr>\n",
       "      <th>3</th>\n",
       "      <td>4</td>\n",
       "      <td>1</td>\n",
       "      <td>2880.28</td>\n",
       "      <td>32317.63</td>\n",
       "      <td>7075.03</td>\n",
       "      <td>0</td>\n",
       "      <td>28</td>\n",
       "      <td>2017-04-30</td>\n",
       "    </tr>\n",
       "    <tr>\n",
       "      <th>4</th>\n",
       "      <td>5</td>\n",
       "      <td>0</td>\n",
       "      <td>998.27</td>\n",
       "      <td>15110.04</td>\n",
       "      <td>11356.13</td>\n",
       "      <td>0</td>\n",
       "      <td>43</td>\n",
       "      <td>NaT</td>\n",
       "    </tr>\n",
       "  </tbody>\n",
       "</table>\n",
       "</div>"
      ],
      "text/plain": [
       "   Cust_ID  Purchase  Cheq_Bal   Sav_Bal  Debt_Bal  Joint_Acct  Age       Date\n",
       "0        1         0   1739.48  26918.18  12563.93           0   49        NaT\n",
       "1        2         0   2862.35  23093.67  15457.88           0   39        NaT\n",
       "2        3         0   2296.66  18037.33  12721.89           0   52        NaT\n",
       "3        4         1   2880.28  32317.63   7075.03           0   28 2017-04-30\n",
       "4        5         0    998.27  15110.04  11356.13           0   43        NaT"
      ]
     },
     "execution_count": 2,
     "metadata": {},
     "output_type": "execute_result"
    }
   ],
   "source": [
    "account_data = pd.read_excel('data/bank_account_data.xlsx')\n",
    "account_data.head()"
   ]
  },
  {
   "cell_type": "code",
   "execution_count": 25,
   "metadata": {},
   "outputs": [
    {
     "name": "stdout",
     "output_type": "stream",
     "text": [
      "   COUNT(cust_id)  AVG(cust_id)  MIN(cust_id)  MAX(cust_id)\n",
      "0             200         100.5             1           200\n",
      "   COUNT(purchase)  AVG(purchase)  MIN(purchase)  MAX(purchase)\n",
      "0              200          0.195              0              1\n",
      "   COUNT(cheq_bal)  AVG(cheq_bal)  MIN(cheq_bal)  MAX(cheq_bal)\n",
      "0              200      2145.0935         644.31        4437.44\n",
      "   COUNT(sav_bal)  AVG(sav_bal)  MIN(sav_bal)  MAX(sav_bal)\n",
      "0             200   22084.42895       6558.91      39132.63\n",
      "   COUNT(debt_bal)  AVG(debt_bal)  MIN(debt_bal)  MAX(debt_bal)\n",
      "0              200      8638.3696            0.0        20559.7\n",
      "   COUNT(joint_acct)  AVG(joint_acct)  MIN(joint_acct)  MAX(joint_acct)\n",
      "0                200            0.295                0                1\n",
      "   COUNT(age)  AVG(age)  MIN(age)  MAX(age)\n",
      "0         200    38.535        18        60\n",
      "   COUNT(date)                   MIN(date)                   MAX(date)\n",
      "0           39  2017-04-01 00:00:00.000000  2017-08-29 00:00:00.000000\n"
     ]
    }
   ],
   "source": [
    "#Опишите имеющиеся колонки в данных - сделайте аналог describe в pandas для колонок.\n",
    "cust_id_data = pandasql.sqldf(\"SELECT COUNT(cust_id), AVG(cust_id), MIN(cust_id), MAX(cust_id) FROM account_data;\")\n",
    "print(cust_id_data)\n",
    "#cust_id - значения от 1 до 200, пропусков нет. Представляет собой уникальный идентификатор записи в датасете. \n",
    "\n",
    "purchase_data = pandasql.sqldf(\"SELECT COUNT(purchase), AVG(purchase), MIN(purchase), MAX(purchase) FROM account_data;\")\n",
    "print(purchase_data)\n",
    "#purchase - значения 0 и 1. Признак покупки ипотеки клиентом.\n",
    "\n",
    "cheq_bal_data = pandasql.sqldf(\"SELECT COUNT(cheq_bal), AVG(cheq_bal), MIN(cheq_bal), MAX(cheq_bal) FROM account_data;\")\n",
    "print(cheq_bal_data)\n",
    "#cheq_bal - значения от 644.31 до 4437.44, среднее 2145.09, пропусков нет. Один из видов баланса на счету клиента.\n",
    "\n",
    "sav_bal_data = pandasql.sqldf(\"SELECT COUNT(sav_bal), AVG(sav_bal), MIN(sav_bal), MAX(sav_bal) FROM account_data;\")\n",
    "print(sav_bal_data)\n",
    "#sav_bal - значения от 6558.91 до 39132.63, среднее 22084.43, пропусков нет. Один из видов баланса на счету клиента.\n",
    "\n",
    "debt_bal_data = pandasql.sqldf(\"SELECT COUNT(debt_bal), AVG(debt_bal), MIN(debt_bal), MAX(debt_bal) FROM account_data;\")\n",
    "print(debt_bal_data)\n",
    "#debt_bal - значения от 0 до 20559.7, среднее 8638.37, пропусков нет. Один из видов баланса на счету клиента.\n",
    "\n",
    "joint_acct_data = pandasql.sqldf(\"SELECT COUNT(joint_acct), AVG(joint_acct), MIN(joint_acct), MAX(joint_acct) FROM account_data;\")\n",
    "print(joint_acct_data)\n",
    "#joint_acct - значения 0 и 1. Признак объединенного счета.\n",
    "\n",
    "age_data = pandasql.sqldf(\"SELECT COUNT(age), AVG(age), MIN(age), MAX(age) FROM account_data;\")\n",
    "print(age_data)\n",
    "#age - значения от 18 до 60, среднее 38.5, пропусков нет. Возраст клиента.\n",
    "\n",
    "date_data = pandasql.sqldf(\"SELECT COUNT(date), MIN(date), MAX(date) FROM account_data;\")\n",
    "print(date_data)\n",
    "#date - значения от 01.04.2017 до 29.08.2017, заполнена только для 39 записей. Дата получения ипотеки."
   ]
  },
  {
   "cell_type": "code",
   "execution_count": 29,
   "metadata": {},
   "outputs": [
    {
     "name": "stdout",
     "output_type": "stream",
     "text": [
      "      bal_sum\n",
      "0  6573578.41\n"
     ]
    }
   ],
   "source": [
    "#Посчитайте совокупный объем средств у клиентов в банке - сумма по всем балансам.\n",
    "bal_data = pandasql.sqldf(\"SELECT SUM(cheq_bal) + SUM(sav_bal) + SUM(debt_bal) bal_sum FROM account_data;\")\n",
    "print(bal_data)\n",
    "#Совокупный объем средств: 6'573'578.41"
   ]
  },
  {
   "cell_type": "code",
   "execution_count": 28,
   "metadata": {},
   "outputs": [
    {
     "name": "stdout",
     "output_type": "stream",
     "text": [
      "    Cust_ID\n",
      "0         4\n",
      "1         6\n",
      "2         7\n",
      "3        11\n",
      "4        13\n",
      "5        17\n",
      "6        18\n",
      "7        20\n",
      "8        22\n",
      "9        31\n",
      "10       36\n",
      "11       38\n",
      "12       40\n",
      "13       41\n",
      "14       54\n",
      "15       56\n",
      "16       59\n",
      "17       60\n",
      "18       74\n",
      "19       76\n",
      "20       80\n",
      "21       87\n",
      "22       91\n",
      "23       93\n",
      "24       94\n",
      "25       97\n",
      "26      100\n",
      "27      107\n",
      "28      111\n",
      "29      113\n",
      "30      132\n",
      "31      146\n",
      "32      154\n",
      "33      166\n",
      "34      169\n",
      "35      182\n",
      "36      184\n",
      "37      185\n",
      "38      189\n"
     ]
    }
   ],
   "source": [
    "#Выведите только тех клиентов, которые приобрели ипотеку (колонка mortgage).\n",
    "#Видимо, имеется в виду колонка purchase, т.к. колонки mortgage в датасете нет.\n",
    "mortgage_data = pandasql.sqldf(\n",
    "    \"\"\"\n",
    "    SELECT cust_id\n",
    "    FROM account_data\n",
    "    WHERE purchase = 1\n",
    "    \"\"\")\n",
    "print(mortgage_data)"
   ]
  },
  {
   "cell_type": "code",
   "execution_count": 33,
   "metadata": {},
   "outputs": [
    {
     "name": "stdout",
     "output_type": "stream",
     "text": [
      "        bal_avg\n",
      "0  36054.895385\n",
      "        bal_avg\n",
      "0  32095.885031\n"
     ]
    }
   ],
   "source": [
    "#Какой совокупный объем средств в среднем у клиентов, которые приобрели ипотеку и у клиентов, которые её не приобретали?\n",
    "clients_with_mortgage = pandasql.sqldf(\n",
    "    \"\"\"\n",
    "    SELECT AVG(cheq_bal) + AVG(sav_bal) + AVG(debt_bal) bal_avg\n",
    "    FROM account_data\n",
    "    WHERE purchase = 1\n",
    "    \"\"\")\n",
    "print(clients_with_mortgage)\n",
    "\n",
    "clients_without_mortgage = pandasql.sqldf(\n",
    "    \"\"\"\n",
    "    SELECT AVG(cheq_bal) + AVG(sav_bal) + AVG(debt_bal) bal_avg\n",
    "    FROM account_data\n",
    "    WHERE purchase = 0\n",
    "    \"\"\")\n",
    "print(clients_without_mortgage)\n",
    "\n",
    "#Клиенты с ипотекой: 36054.9\n",
    "#Клиенты без ипотеки: 32095.89"
   ]
  },
  {
   "cell_type": "code",
   "execution_count": 35,
   "metadata": {},
   "outputs": [
    {
     "name": "stdout",
     "output_type": "stream",
     "text": [
      "   cheq_bal_avg   sav_bal_avg  debt_bal_avg\n",
      "0   2757.975641  29627.564359   3669.355385\n",
      "   cheq_bal_avg   sav_bal_avg  debt_bal_avg\n",
      "0   1996.631366  20257.209814   9842.043851\n"
     ]
    }
   ],
   "source": [
    "#Есть ли разница в среднем по каждому из типов баланса у клиентов, которые приобрели ипотеку и у клиентов, которые её не приобретали?\n",
    "clients_with_mortgage = pandasql.sqldf(\n",
    "    \"\"\"\n",
    "    SELECT\n",
    "        AVG(cheq_bal) cheq_bal_avg,\n",
    "        AVG(sav_bal) sav_bal_avg,\n",
    "        AVG(debt_bal) debt_bal_avg\n",
    "    FROM account_data\n",
    "    WHERE purchase = 1\n",
    "    \"\"\")\n",
    "print(clients_with_mortgage)\n",
    "\n",
    "clients_without_mortgage = pandasql.sqldf(\n",
    "    \"\"\"\n",
    "    SELECT\n",
    "        AVG(cheq_bal) cheq_bal_avg,\n",
    "        AVG(sav_bal) sav_bal_avg,\n",
    "        AVG(debt_bal) debt_bal_avg\n",
    "    FROM account_data\n",
    "    WHERE purchase = 0\n",
    "    \"\"\")\n",
    "print(clients_without_mortgage)\n",
    "\n",
    "#У клиентов без ипотеки баланс debt_bal, в среднем, почти в 3 раза выше, чем у клиентов с ипотекой.\n",
    "#Балансы cheq_bal и sav_bal выше у клиентов с ипотекой."
   ]
  },
  {
   "cell_type": "code",
   "execution_count": 41,
   "metadata": {},
   "outputs": [
    {
     "name": "stdout",
     "output_type": "stream",
     "text": [
      "   Cust_ID  Age\n",
      "0       41   45\n"
     ]
    }
   ],
   "source": [
    "#Выберите самого возрастного получателя ипотеки.\n",
    "mortgage_data = pandasql.sqldf(\n",
    "    \"\"\"\n",
    "    SELECT\n",
    "       cust_id,\n",
    "       age\n",
    "    FROM account_data\n",
    "    WHERE purchase = 1\n",
    "    ORDER BY age DESC\n",
    "    LIMIT 1\n",
    "    \"\"\")\n",
    "print(mortgage_data)\n",
    "#Самый возрастной получатель ипотеки имеет возраст 45 лет, ID записи: 41."
   ]
  },
  {
   "cell_type": "code",
   "execution_count": 39,
   "metadata": {},
   "outputs": [
    {
     "name": "stdout",
     "output_type": "stream",
     "text": [
      "   Cust_ID                        Date\n",
      "0      185  2017-04-01 00:00:00.000000\n"
     ]
    }
   ],
   "source": [
    "#Выберите клиента, который раньше всех получил ипотеку.\n",
    "mortgage_data = pandasql.sqldf(\n",
    "    \"\"\"\n",
    "    SELECT\n",
    "       cust_id,\n",
    "       date\n",
    "    FROM account_data\n",
    "    WHERE purchase = 1\n",
    "    ORDER BY date\n",
    "    LIMIT 1\n",
    "    \"\"\")\n",
    "print(mortgage_data)\n",
    "#Раньше всех получил ипотеку клиент с ID = 185. Дата получения ипотеки: 01.04.2017"
   ]
  },
  {
   "cell_type": "code",
   "execution_count": 48,
   "metadata": {},
   "outputs": [],
   "source": [
    "#Создайте любую базу данных в sqlite3, состоящую из 5 колонок, одна из колонок обязательно должна быть типа REAL. (Названия колонок любые, какие захотите)\n",
    "conn = sqlite3.connect('data/hw1.db')\n",
    "conn.execute('''\n",
    "CREATE TABLE countries (\n",
    "    id INTEGER, \n",
    "    name STRING,\n",
    "    capital STRING, \n",
    "    population INTEGER, \n",
    "    avg_life_expectancy REAL\n",
    "    );''')\n",
    "\n",
    "conn.commit()\n",
    "conn.close()"
   ]
  },
  {
   "cell_type": "code",
   "execution_count": 50,
   "metadata": {},
   "outputs": [],
   "source": [
    "#Добавьте 3 полностью заполненные строки в вашу БД.\n",
    "conn = sqlite3.connect('data/hw1.db')\n",
    "\n",
    "conn.execute(\"INSERT INTO countries VALUES ('1', 'Россия', 'Москва', '147', '71.34');\")\n",
    "conn.execute(\"INSERT INTO countries VALUES ('2', 'США', 'Вашингтон', '333', '77.28');\")\n",
    "conn.execute(\"INSERT INTO countries VALUES ('3', 'Китай', 'Москва', '1412', '71.1');\")\n",
    "\n",
    "conn.commit()\n",
    "conn.close()"
   ]
  },
  {
   "cell_type": "code",
   "execution_count": 59,
   "metadata": {},
   "outputs": [],
   "source": [
    "#Удалите строку из колонки типа REAL (из пункта 8), в которой значение признака среднее (то есть не минимальное и не максимальное).\n",
    "#Напрямую указывать значение из этой строки нельзя.\n",
    "conn = sqlite3.connect('data/hw1.db')\n",
    "\n",
    "conn.execute(\"\"\"\n",
    "    DELETE FROM countries\n",
    "    WHERE id IN (\n",
    "        SELECT id\n",
    "        FROM countries\n",
    "        ORDER BY avg_life_expectancy\n",
    "        LIMIT 1 OFFSET 1)\"\"\")\n",
    "\n",
    "conn.commit()\n",
    "conn.close()"
   ]
  },
  {
   "cell_type": "code",
   "execution_count": 60,
   "metadata": {},
   "outputs": [
    {
     "data": {
      "text/plain": [
       "[(2, 'США', 'Вашингтон', 333, 77.28), (3, 'Китай', 'Москва', 1412, 71.1)]"
      ]
     },
     "execution_count": 60,
     "metadata": {},
     "output_type": "execute_result"
    }
   ],
   "source": [
    "conn = sqlite3.connect('data/hw1.db')\n",
    "cur = conn.cursor()\n",
    "cur.execute(\"SELECT * from countries;\")\n",
    "result = cur.fetchall()\n",
    "conn.close()\n",
    "result"
   ]
  }
 ],
 "metadata": {
  "kernelspec": {
   "display_name": "Python 3.9.10 64-bit",
   "language": "python",
   "name": "python3"
  },
  "language_info": {
   "codemirror_mode": {
    "name": "ipython",
    "version": 3
   },
   "file_extension": ".py",
   "mimetype": "text/x-python",
   "name": "python",
   "nbconvert_exporter": "python",
   "pygments_lexer": "ipython3",
   "version": "3.9.10"
  },
  "orig_nbformat": 4,
  "vscode": {
   "interpreter": {
    "hash": "2d4455a2e61ae3957eb3f2dc120d37d8062efc997899814c5a66da8bebe4f69b"
   }
  }
 },
 "nbformat": 4,
 "nbformat_minor": 2
}
