{
 "cells": [
  {
   "cell_type": "markdown",
   "id": "40e0ed0d-50b8-4e8d-9609-b73dab4172e5",
   "metadata": {},
   "source": [
    "# Разогрев"
   ]
  },
  {
   "cell_type": "markdown",
   "id": "74094422-038c-48f2-ae6e-96897c473b4c",
   "metadata": {},
   "source": [
    "## Задание 1"
   ]
  },
  {
   "cell_type": "markdown",
   "id": "4d598c4c-9fa7-4cce-a972-352008b78691",
   "metadata": {},
   "source": [
    "Иногда, когда нужно создавать много однотипных лямбда функций, еще удобнее будет создать функцию, которая будет их генерировать.\n",
    "\n",
    "Реализуйте функцию ``mod_checker(x, mod=0)``, которая будет **возвращать лямбда функцию** от одного аргумента ``y``, которая будет возвращать ``True``, если остаток от деления ``y`` на ``x`` равен ``mod``, и ``False`` иначе.\n",
    "\n",
    "Если в ``return`` вашей функции написано выражение, отличное от лямбда функции - задание считается проваленным\n",
    "\n",
    "**Sample:**\n",
    "\n",
    "```python\n",
    "mod_3 = mod_checker(3)\n",
    "\n",
    "print(mod_3(3)) # True\n",
    "print(mod_3(4)) # False\n",
    "\n",
    "mod_3_1 = mod_checker(3, 1)\n",
    "print(mod_3_1(4)) # True\n",
    "```"
   ]
  },
  {
   "cell_type": "code",
   "execution_count": 5,
   "id": "113b22cc-5ce8-42b5-a733-89a7411c780f",
   "metadata": {},
   "outputs": [
    {
     "name": "stdout",
     "output_type": "stream",
     "text": [
      "True\n",
      "False\n",
      "True\n"
     ]
    }
   ],
   "source": [
    "def mod_checker(x: int, mod=0):\n",
    "    \"\"\" Returns lambda-function, which returns True if arg % x == mod\n",
    "        and False if arg % x != mod.\n",
    "\n",
    "    Args:\n",
    "        x (int): divider\n",
    "        mod (int, optional): compared value. Defaults to 0.\n",
    "\n",
    "    Returns:\n",
    "        lambda: function with 1 argument.\n",
    "    \"\"\"\n",
    "    return lambda y: True if y % x == mod else False\n",
    "\n",
    "mod_3 = mod_checker(3)\n",
    "\n",
    "print(mod_3(3))\n",
    "print(mod_3(4))\n",
    "\n",
    "mod_3_1 = mod_checker(3, 1)\n",
    "print(mod_3_1(4))"
   ]
  },
  {
   "cell_type": "markdown",
   "id": "d46cfa4e-1517-4444-a31b-b39f96beca3e",
   "metadata": {},
   "source": [
    "# Numpy"
   ]
  },
  {
   "cell_type": "code",
   "execution_count": 1,
   "id": "bec93b3e-f079-4e70-914f-6b19862fc68b",
   "metadata": {},
   "outputs": [],
   "source": [
    "import numpy as np"
   ]
  },
  {
   "cell_type": "markdown",
   "id": "e065e248-1900-4a4a-8c52-590ef71980b2",
   "metadata": {},
   "source": [
    "## Задание 2\n",
    "Напишите функцию, которая принимает один аргумент - ``n``. Функция должна создать нампаевскую матрицу размером ``(n, n)`` и залить ее шахматным узором. Порядок узора не имеет значения, важен общий паттерн.\n",
    "\n",
    "**Sample:**\n",
    "```python\n",
    "chess_maze(8)\n",
    "\n",
    "[[0 1 0 1 0 1 0 1]\n",
    " [1 0 1 0 1 0 1 0]\n",
    " [0 1 0 1 0 1 0 1]\n",
    " [1 0 1 0 1 0 1 0]\n",
    " [0 1 0 1 0 1 0 1]\n",
    " [1 0 1 0 1 0 1 0]\n",
    " [0 1 0 1 0 1 0 1]\n",
    " [1 0 1 0 1 0 1 0]]\n",
    "```\n",
    "\n"
   ]
  },
  {
   "cell_type": "code",
   "execution_count": 25,
   "id": "12de4c2f-9de4-4a57-8e68-27f8125ca7e9",
   "metadata": {},
   "outputs": [
    {
     "name": "stdout",
     "output_type": "stream",
     "text": [
      "[[0 1 0 1 0 1 0 1]\n",
      " [1 0 1 0 1 0 1 0]\n",
      " [0 1 0 1 0 1 0 1]\n",
      " [1 0 1 0 1 0 1 0]\n",
      " [0 1 0 1 0 1 0 1]\n",
      " [1 0 1 0 1 0 1 0]\n",
      " [0 1 0 1 0 1 0 1]\n",
      " [1 0 1 0 1 0 1 0]]\n"
     ]
    }
   ],
   "source": [
    "def chess_maze(n: int) -> np.array:\n",
    "    \"\"\" Generates 2d-array with chess order of 0 and 1.\n",
    "\n",
    "    Args:\n",
    "        n (int): array size.\n",
    "\n",
    "    Returns:\n",
    "        np.array: 2d-array with chess order.\n",
    "    \"\"\"\n",
    "    result = np.zeros((n, n), np.uint8)\n",
    "    result[1::2, ::2] = 1 # set 1 to the even rows and odd columns\n",
    "    result[::2, 1::2] = 1 # set 1 to the odd columns and even rows\n",
    "    return result\n",
    "\n",
    "print(chess_maze(8))"
   ]
  },
  {
   "cell_type": "markdown",
   "id": "ff71edfc-ecba-48b9-ab5e-db17021e7b30",
   "metadata": {},
   "source": [
    "## Задание 3\n",
    "Напишите функцию, которая принимает 2 аргумента ``arr`` и ``exclude_values``. ``arr`` - это одномерный нампаевский массив, в котором необходимо поменять знак всем числам (инвертировать), которые есть в массиве ``exclude_values``. Действия необходимо делать прямо в исходном массиве, не создавая копий.\n",
    "\n",
    "**Sample:**\n",
    "```python\n",
    "#Исходный вектор \n",
    "arr = np.arange(10+1)\n",
    "exclude_values = np.arange(4, 8)\n",
    " \n",
    "my_func(arr, exclude_values)\n",
    "array([ 0  1  2  3 -4 -5 -6 -7  8  9 10])\n",
    "```"
   ]
  },
  {
   "cell_type": "code",
   "execution_count": 35,
   "id": "28e738e2-a873-4e3d-bdd0-222506090674",
   "metadata": {},
   "outputs": [
    {
     "name": "stdout",
     "output_type": "stream",
     "text": [
      "[ 0  1  2  3 -4 -5 -6 -7  8  9 10]\n",
      "[-2 -4  5 -2 -4  3 -2]\n"
     ]
    }
   ],
   "source": [
    "def invert_values(arr: np.array, exclude_values: np.array):\n",
    "    \"\"\" Invert values in the 1st array from numbers of the 2nd array.\n",
    "\n",
    "    Args:\n",
    "        arr (np.array): changed array,\n",
    "        exclude_values (np.array): numbers to invert.\n",
    "    \"\"\"\n",
    "    for i in range(len(arr)):\n",
    "        if arr[i] in exclude_values:\n",
    "            arr[i] = -arr[i]\n",
    "\n",
    "arr = np.arange(10+1)\n",
    "exclude_values = np.arange(4, 8)\n",
    "invert_values(arr, exclude_values)\n",
    "print(arr)\n",
    "\n",
    "arr2 = np.array([2, 4, 5, -2, 4, 3, 2])\n",
    "exclude_values = np.array([2, 4])\n",
    "invert_values(arr2, exclude_values)\n",
    "print(arr2)"
   ]
  },
  {
   "cell_type": "markdown",
   "id": "50fd92a7-30b5-42a1-aed4-a222132496cd",
   "metadata": {},
   "source": [
    "## Задание 4\n",
    "Напишите функцию, которая принимает одномерный положительный нампаевский массив и минимум 4 раза выводит на экран (функция ``print``) этот же массив, в котором у элементов оставлена только целая часть. Все >= 4 раза функция должна использовать разные методы для извлечения целой части.\n",
    "\n",
    "**Sample:**\n",
    "```python\n",
    "#Исходный вектор \n",
    "arr = np.random.uniform(low=10, high=100,size=20)\n",
    "#Исходный вектор arr:\n",
    "arr\n",
    "[99.54707368 49.26237526 80.50565073 10.10998238 16.39378916 60.64633657\n",
    " 25.49637622 31.06574268 94.48636127 73.41204506 75.70638137 70.43830146\n",
    " 72.28607422 40.59319738 57.85802554 35.39428061 55.25707514 48.00020145\n",
    " 38.39449991 26.19085017]\n",
    " \n",
    "my_func(arr)\n",
    "\n",
    "[99. 49. 80. 10. 16. 60. 25. 31. 94. 73. 75. 70. 72. 40. 57. 35. 55. 48.\n",
    " 38. 26.]\n",
    "[99. 49. 80. 10. 16. 60. 25. 31. 94. 73. 75. 70. 72. 40. 57. 35. 55. 48.\n",
    " 38. 26.]\n",
    "[99. 49. 80. 10. 16. 60. 25. 31. 94. 73. 75. 70. 72. 40. 57. 35. 55. 48.\n",
    " 38. 26.]\n",
    "[99 49 80 10 16 60 25 31 94 73 75 70 72 40 57 35 55 48 38 26]\n",
    "[99. 49. 80. 10. 16. 60. 25. 31. 94. 73. 75. 70. 72. 40. 57. 35. 55. 48.\n",
    " 38. 26.]\n",
    "```\n",
    "\n",
    "В примере 5 выводов print из функции, просто чтобы были :)"
   ]
  },
  {
   "cell_type": "code",
   "execution_count": 29,
   "id": "d988e6d5-1e23-411c-a2d0-f5b9f5960b47",
   "metadata": {},
   "outputs": [
    {
     "name": "stdout",
     "output_type": "stream",
     "text": [
      "[33 30 80 18 19 42 32 99 10 45 42 44 43 16 27 36 90 95 20 47]\n",
      "[33 30 80 18 19 42 32 99 10 45 42 44 43 16 27 36 90 95 20 47]\n",
      "[33 30 80 18 19 42 32 99 10 45 42 44 43 16 27 36 90 95 20 47]\n",
      "[33 30 80 18 19 42 32 99 10 45 42 44 43 16 27 36 90 95 20 47]\n",
      "[33. 30. 80. 18. 19. 42. 32. 99. 10. 45. 42. 44. 43. 16. 27. 36. 90. 95.\n",
      " 20. 47.]\n",
      "[33. 30. 80. 18. 19. 42. 32. 99. 10. 45. 42. 44. 43. 16. 27. 36. 90. 95.\n",
      " 20. 47.]\n",
      "[33. 30. 80. 18. 19. 42. 32. 99. 10. 45. 42. 44. 43. 16. 27. 36. 90. 95.\n",
      " 20. 47.]\n"
     ]
    }
   ],
   "source": [
    "import math\n",
    "\n",
    "def arr_to_int(arr: np.array):\n",
    "    \"\"\" Prints 7-times array without fractional part using different methods.\n",
    "\n",
    "    Args:\n",
    "        arr (np.array): array with floats.\n",
    "    \"\"\"\n",
    "    print(arr.astype(int))\n",
    "    print(np.array([int(num) for num in arr]))\n",
    "    print(np.array([math.floor(num) for num in arr]))\n",
    "    print(np.array([math.trunc(num) for num in arr]))\n",
    "    print(np.array([num - num % 1 for num in arr]))\n",
    "    print(np.array([num // 1 for num in arr]))\n",
    "    print(np.array([float(num[:num.find('.')]) for num in arr.astype(str)]))\n",
    "    \n",
    "arr = np.random.uniform(low=10, high=100, size=20)\n",
    "arr_to_int(arr)"
   ]
  },
  {
   "cell_type": "markdown",
   "id": "e19786ad-aede-4f06-96b8-fb6f60e7bcf7",
   "metadata": {},
   "source": [
    "## Задание 5\n",
    "Напишите функцию, которая принимает два числа - ``N`` и ``p``. ``N`` - это размер стороны квадратной матрицы np.zeros, ``p`` - это количество индексов в матрице (p не превышает N*N), которые нужно заменить на случайные числа. Индексы и числа нужно выбирать случайно. Функция должна возвращать квадратную матрицу со стороной ``N``, в которой ровно ``p`` чисел заменены на случайные.\n",
    "\n",
    "```python\n",
    "my_func(N=6, p=4)\n",
    "\n",
    "[[56.   0.   0.   0.   0.   0.]\n",
    " [  0.   0.   0.   0.   0.   0.]\n",
    " [99.   0.   0.   0.   0.   0.]\n",
    " [  0.   0.   0. 83.   0.   0.]\n",
    " [  0.   0.   0.   0.   0.   0.]\n",
    " [  0.   0.   0.   0.   1.   0.]]\n",
    "```"
   ]
  },
  {
   "cell_type": "code",
   "execution_count": 6,
   "id": "13c686c6",
   "metadata": {},
   "outputs": [
    {
     "data": {
      "text/plain": [
       "array([[ 0.,  0.,  0.,  0.,  0.,  0.],\n",
       "       [ 0.,  0., 49.,  0.,  0., 27.],\n",
       "       [ 0.,  0.,  0.,  0.,  0.,  0.],\n",
       "       [ 0.,  0.,  0.,  0.,  0.,  0.],\n",
       "       [ 0.,  0., 52.,  0.,  0.,  0.],\n",
       "       [ 0.,  0.,  0., 99.,  0.,  0.]])"
      ]
     },
     "execution_count": 6,
     "metadata": {},
     "output_type": "execute_result"
    }
   ],
   "source": [
    "def rand_matrix(N: int, p: int) -> np.array:\n",
    "    \"\"\" Generates 2D zero-array with <p> random numbers.\n",
    "\n",
    "    Args:\n",
    "        N (int): length of the side,\n",
    "        p (int): number of random values.\n",
    "\n",
    "    Raises:\n",
    "        ValueError: checks number of random values.\n",
    "\n",
    "    Returns:\n",
    "        np.array: matrix with random values.\n",
    "    \"\"\"\n",
    "    if p > N**2:\n",
    "        raise ValueError(f'Number of random values must be less than {N**2}')\n",
    "    \n",
    "    result = np.zeros((N, N))\n",
    "    indexes = np.random.choice(N**2, size=p, replace=False)\n",
    "    for i in indexes:\n",
    "        result[i // N, i % N] = np.random.randint(1, 100)\n",
    "    return result\n",
    "\n",
    "rand_matrix(N=6, p=4)"
   ]
  },
  {
   "cell_type": "markdown",
   "id": "ea6147b4-ea16-48e8-86f9-20bc90849b68",
   "metadata": {},
   "source": [
    "# Pandas"
   ]
  },
  {
   "cell_type": "code",
   "execution_count": 2,
   "id": "036794bd-1340-4341-93f2-4c7eda7e011c",
   "metadata": {},
   "outputs": [],
   "source": [
    "import pandas as pd"
   ]
  },
  {
   "cell_type": "markdown",
   "id": "feed93bf-9c0e-443e-9812-f3d88f526be4",
   "metadata": {},
   "source": [
    "# Задание 6\n",
    "\n",
    "Любым удобным для вас способом создайте ``dataframe`` c именем ``my_data``, в котором две колонки c именами (``type`` - строки, ``value`` - числа с плавающей точкой) и четыре наблюдения в каждой колонке:\n",
    "\n",
    "```\n",
    "type value\n",
    "B    18.\n",
    "\n",
    "B    20.\n",
    "\n",
    "C    10.\n",
    "\n",
    "C    -10.\n",
    "```\n",
    "\n",
    "Какой размер созданного вами датафрейма? (Подумайте, что лучше использовать - информацию из метода df.info() или информацию из метода df.memory_usage()?)\n",
    "1) Измените тип данных колонки type на category. Как изменился размер датафрейма?\n",
    "2) Измените тип данных колонки value на менее жадный. Как изменился размер датафрейма?"
   ]
  },
  {
   "cell_type": "code",
   "execution_count": 71,
   "id": "55453b06-c034-4ad4-9350-c9bfdeb5acef",
   "metadata": {},
   "outputs": [
    {
     "name": "stdout",
     "output_type": "stream",
     "text": [
      "Initial size of data frame - 192 bytes\n",
      "Size after changing type to category - 288 bytes\n",
      "Size after changing value type - 264 bytes\n"
     ]
    }
   ],
   "source": [
    "my_data = pd.DataFrame(\n",
    "    data=[\n",
    "        ['B', 18.],\n",
    "        ['B', 20.],\n",
    "        ['C', 10.],\n",
    "        ['C', -10.]\n",
    "    ],\n",
    "    columns=['type', 'value'])\n",
    "\n",
    "# При использовании метода memory_usage(), можно поместить значение\n",
    "# в переменную, чтобы дальше с ней можно было работать.\n",
    "mem1 = my_data.memory_usage().sum()\n",
    "print(f'Initial size of data frame - {mem1} bytes')\n",
    "\n",
    "my_data['type'] = my_data['type'].astype('category')\n",
    "mem2 = my_data.memory_usage().sum()\n",
    "print(f'Size after changing type to category - {mem2} bytes')\n",
    "\n",
    "my_data['value'] = my_data['value'].astype(np.float16)\n",
    "mem3 = my_data.memory_usage().sum()\n",
    "print(f'Size after changing value type - {mem3} bytes')"
   ]
  },
  {
   "cell_type": "markdown",
   "id": "b5c49f07-2954-43af-89e4-2df23e216af8",
   "metadata": {},
   "source": [
    "# Задание 7\n",
    "Любым удобным для вас способом создайте ``dataframe`` c именем ``my_data``, в котором две колонки c именами (``type`` - строки, ``value`` - числа с плавающей точкой) и десять тысяч (10 000) наблюдений в каждой колонке. В колонке ``type`` должно быть 10 уникальных значений.\n",
    "\n",
    "```python\n",
    "my_data.shape\n",
    "____________\n",
    "(10000, 2)\n",
    "```\n",
    "\n",
    "Какой размер созданного вами датафрейма? (Подумайте, что лучше использовать - информацию из метода df.info() или информацию из метода df.memory_usage()?)\n",
    "1) Измените тип данных колонки type на category. Как изменился размер датафрейма?\n",
    "2) Измените тип данных колонки value на менее жадный. Как изменился размер датафрейма?\n",
    "\n",
    "Во сколько раз уменьшился размер исходного датафрейма после выполнения этих двух операций?"
   ]
  },
  {
   "cell_type": "code",
   "execution_count": 11,
   "id": "7ce31b7d-7367-4c4a-b7ca-e7b837fda604",
   "metadata": {},
   "outputs": [
    {
     "name": "stdout",
     "output_type": "stream",
     "text": [
      "Initial size of data frame - 160128 bytes\n",
      "Size after changing type to category - 90508 bytes\n",
      "Size after changing value type - 30508 bytes\n",
      "Size of data frame reduced in 5.25\n"
     ]
    }
   ],
   "source": [
    "size = 10_000\n",
    "\n",
    "my_data = pd.DataFrame()\n",
    "my_data['type'] = np.random.choice(\n",
    "    ['A', 'B', 'C', 'D', 'E', 'F', 'G', 'H', 'I', 'J'], size)\n",
    "my_data['value'] = np.array(np.random.randint(-100, 100, size), dtype=np.float64)\n",
    "\n",
    "# При использовании метода memory_usage(), можно поместить значение\n",
    "# в переменную, чтобы дальше с ней можно было работать.\n",
    "mem1 = my_data.memory_usage().sum()\n",
    "print(f'Initial size of data frame - {mem1} bytes')\n",
    "\n",
    "my_data['type'] = my_data['type'].astype('category')\n",
    "mem2 = my_data.memory_usage().sum()\n",
    "print(f'Size after changing type to category - {mem2} bytes')\n",
    "\n",
    "my_data['value'] = my_data['value'].astype(np.float16)\n",
    "mem3 = my_data.memory_usage().sum()\n",
    "print(f'Size after changing value type - {mem3} bytes')\n",
    "\n",
    "k_mem = round(mem1 / mem3, 2)\n",
    "print(f'Size of data frame reduced in {k_mem}')"
   ]
  },
  {
   "cell_type": "markdown",
   "id": "d1614009-c31c-494c-9b7e-010b3fca3adc",
   "metadata": {},
   "source": [
    "#### Для решения дальнейших задач мы будем использовать следующий датасет, загрузите его с помощью команды:"
   ]
  },
  {
   "cell_type": "code",
   "execution_count": 12,
   "id": "9de2ceb8-28bf-4f4f-a67c-5c3cf17d09e9",
   "metadata": {},
   "outputs": [],
   "source": [
    "df = pd.read_csv('https://stepik.org/media/attachments/course/4852/my_stat.csv')"
   ]
  },
  {
   "cell_type": "code",
   "execution_count": 16,
   "id": "bcf8eca6-4c68-43a9-a250-7b2b0aba6a92",
   "metadata": {},
   "outputs": [
    {
     "data": {
      "text/html": [
       "<div>\n",
       "<style scoped>\n",
       "    .dataframe tbody tr th:only-of-type {\n",
       "        vertical-align: middle;\n",
       "    }\n",
       "\n",
       "    .dataframe tbody tr th {\n",
       "        vertical-align: top;\n",
       "    }\n",
       "\n",
       "    .dataframe thead th {\n",
       "        text-align: right;\n",
       "    }\n",
       "</style>\n",
       "<table border=\"1\" class=\"dataframe\">\n",
       "  <thead>\n",
       "    <tr style=\"text-align: right;\">\n",
       "      <th></th>\n",
       "      <th>V1</th>\n",
       "      <th>V2</th>\n",
       "      <th>V3</th>\n",
       "      <th>V4</th>\n",
       "    </tr>\n",
       "  </thead>\n",
       "  <tbody>\n",
       "    <tr>\n",
       "      <th>0</th>\n",
       "      <td>2</td>\n",
       "      <td>13.0</td>\n",
       "      <td>B</td>\n",
       "      <td>1.0</td>\n",
       "    </tr>\n",
       "    <tr>\n",
       "      <th>1</th>\n",
       "      <td>-1</td>\n",
       "      <td>7.0</td>\n",
       "      <td>B</td>\n",
       "      <td>1.0</td>\n",
       "    </tr>\n",
       "    <tr>\n",
       "      <th>2</th>\n",
       "      <td>0</td>\n",
       "      <td>11.0</td>\n",
       "      <td>A</td>\n",
       "      <td>0.0</td>\n",
       "    </tr>\n",
       "    <tr>\n",
       "      <th>3</th>\n",
       "      <td>2</td>\n",
       "      <td>11.0</td>\n",
       "      <td>A</td>\n",
       "      <td>2.0</td>\n",
       "    </tr>\n",
       "    <tr>\n",
       "      <th>4</th>\n",
       "      <td>0</td>\n",
       "      <td>10.0</td>\n",
       "      <td>B</td>\n",
       "      <td>-1.0</td>\n",
       "    </tr>\n",
       "    <tr>\n",
       "      <th>...</th>\n",
       "      <td>...</td>\n",
       "      <td>...</td>\n",
       "      <td>...</td>\n",
       "      <td>...</td>\n",
       "    </tr>\n",
       "    <tr>\n",
       "      <th>495</th>\n",
       "      <td>1</td>\n",
       "      <td>8.0</td>\n",
       "      <td>A</td>\n",
       "      <td>-1.0</td>\n",
       "    </tr>\n",
       "    <tr>\n",
       "      <th>496</th>\n",
       "      <td>3</td>\n",
       "      <td>8.0</td>\n",
       "      <td>A</td>\n",
       "      <td>1.0</td>\n",
       "    </tr>\n",
       "    <tr>\n",
       "      <th>497</th>\n",
       "      <td>-1</td>\n",
       "      <td>11.0</td>\n",
       "      <td>B</td>\n",
       "      <td>2.0</td>\n",
       "    </tr>\n",
       "    <tr>\n",
       "      <th>498</th>\n",
       "      <td>1</td>\n",
       "      <td>11.0</td>\n",
       "      <td>A</td>\n",
       "      <td>2.0</td>\n",
       "    </tr>\n",
       "    <tr>\n",
       "      <th>499</th>\n",
       "      <td>0</td>\n",
       "      <td>8.0</td>\n",
       "      <td>B</td>\n",
       "      <td>1.0</td>\n",
       "    </tr>\n",
       "  </tbody>\n",
       "</table>\n",
       "<p>500 rows × 4 columns</p>\n",
       "</div>"
      ],
      "text/plain": [
       "     V1    V2 V3   V4\n",
       "0     2  13.0  B  1.0\n",
       "1    -1   7.0  B  1.0\n",
       "2     0  11.0  A  0.0\n",
       "3     2  11.0  A  2.0\n",
       "4     0  10.0  B -1.0\n",
       "..   ..   ... ..  ...\n",
       "495   1   8.0  A -1.0\n",
       "496   3   8.0  A  1.0\n",
       "497  -1  11.0  B  2.0\n",
       "498   1  11.0  A  2.0\n",
       "499   0   8.0  B  1.0\n",
       "\n",
       "[500 rows x 4 columns]"
      ]
     },
     "execution_count": 16,
     "metadata": {},
     "output_type": "execute_result"
    }
   ],
   "source": [
    "df"
   ]
  },
  {
   "cell_type": "markdown",
   "id": "02e37431-e600-4bf5-bfcf-5641bfcaccd8",
   "metadata": {},
   "source": [
    "Примечание: все операции с исходным датафреймом должны быть ``inplace``. То есть исходный датафрейм в переменной ``df`` **должен** измениться"
   ]
  },
  {
   "cell_type": "markdown",
   "id": "25499d55-3c26-4f2e-b642-e05f94341d69",
   "metadata": {},
   "source": [
    "# Задание 8\n",
    "\n",
    "В переменную с именем subset_1 сохраните только первые 19 строк и только 1 и 3 колонку.\n",
    "\n",
    "В переменную с именем subset_2 сохраните все строки кроме 2, 3 и 18 и только 2 и 4 колонку."
   ]
  },
  {
   "cell_type": "code",
   "execution_count": 39,
   "id": "0e4b85c0-946b-4d65-a2f4-9940f5149cc7",
   "metadata": {},
   "outputs": [],
   "source": [
    "subset_1 = df.loc[:19, ['V1', 'V3']]\n",
    "\n",
    "filter = (df.index != 1) & (df.index != 2) & (df.index != 17)\n",
    "subset_2 = df[filter].loc[:, ['V2', 'V4']]"
   ]
  },
  {
   "cell_type": "markdown",
   "id": "57db07ab-f016-4340-880b-cd640e789407",
   "metadata": {},
   "source": [
    "# Задание 9\n",
    "\n",
    "В переменную subset_3 сохраните только те наблюдения, у которых значения переменной V1 строго больше 0, и значение переменной V3  равняется 'A'.\n",
    "\n",
    "В переменную  subset_4  сохраните только те наблюдения, у которых значения переменной V2  не равняются 10, или значения переменной V4 больше или равно 1."
   ]
  },
  {
   "cell_type": "code",
   "execution_count": 42,
   "id": "a9a7558d-14f9-4a64-9b1f-9a77ab52304c",
   "metadata": {},
   "outputs": [],
   "source": [
    "filter = (df['V1'] > 0) & (df['V3'] == 'A')\n",
    "subset_3 = df[filter]\n",
    "\n",
    "filter = (df['V2'] != 10) | (df['V4'] >= 1)\n",
    "subset_4 = df[filter]"
   ]
  },
  {
   "cell_type": "markdown",
   "id": "002c85bb-122e-47c0-8016-64afd80ce988",
   "metadata": {},
   "source": [
    "# Задание 10\n",
    "Добавьте следующие колонки в df:\n",
    "\n",
    "1) V5 = V1 + V4\n",
    "2) V6 = **натуральный** логарифм переменной V2"
   ]
  },
  {
   "cell_type": "code",
   "execution_count": 45,
   "id": "d99e49b2-3213-4a6b-9eb8-97118175d9b1",
   "metadata": {},
   "outputs": [],
   "source": [
    "df['V5'] = df['V1'] + df['V4']\n",
    "df['V6'] = np.log(df['V2'])"
   ]
  },
  {
   "cell_type": "markdown",
   "id": "68231357-e61c-4cd8-aa11-81cde18b856c",
   "metadata": {},
   "source": [
    "# Задание 11\n",
    "\n",
    "Переименуйте колонки в df.\n",
    "\n",
    "1) V1 -> session_value\n",
    "\n",
    "2) V2 -> group\n",
    "\n",
    "3) V3 -> time\n",
    "\n",
    "4) V4 -> n_users"
   ]
  },
  {
   "cell_type": "code",
   "execution_count": 51,
   "id": "d92e15a0-8cf7-4f99-bb84-3b45b36d6c8d",
   "metadata": {},
   "outputs": [],
   "source": [
    "df.rename(columns={'V1':'session_value', 'V2':'group', \n",
    "                   'V3':'time', 'V4':'n_users'}, inplace=True)"
   ]
  },
  {
   "cell_type": "markdown",
   "id": "855d8eb1-d7b2-4908-a404-cfeac1dcf3c0",
   "metadata": {},
   "source": [
    "# Задание 12\n",
    "В датафрейме ``my_stat`` в колонке ``session_value`` замените все пропущенные значения на нули.\n",
    "\n",
    "В колонке ``n_users`` замените все отрицательные значения на медианное значение переменной ``n_users`` (без учета отрицательных значений, разумеется)."
   ]
  },
  {
   "cell_type": "code",
   "execution_count": 61,
   "id": "aa82b450-9804-44f0-8c37-7d1247850132",
   "metadata": {},
   "outputs": [],
   "source": [
    "my_stat = pd.read_csv('https://stepik.org/media/attachments/course/4852/my_stat_1.csv')"
   ]
  },
  {
   "cell_type": "code",
   "execution_count": 74,
   "id": "0ce858ba-5a46-4355-8e02-4051d1c7bf92",
   "metadata": {},
   "outputs": [],
   "source": [
    "my_stat['session_value'] = my_stat['session_value'].fillna(0)\n",
    "\n",
    "filter = my_stat['n_users'] > 0\n",
    "median = my_stat[filter]['n_users'].median()\n",
    "filter = my_stat['n_users'] < 0\n",
    "my_stat.loc[filter, 'n_users'] = median"
   ]
  }
 ],
 "metadata": {
  "kernelspec": {
   "display_name": "Python 3.9.10 64-bit",
   "language": "python",
   "name": "python3"
  },
  "language_info": {
   "codemirror_mode": {
    "name": "ipython",
    "version": 3
   },
   "file_extension": ".py",
   "mimetype": "text/x-python",
   "name": "python",
   "nbconvert_exporter": "python",
   "pygments_lexer": "ipython3",
   "version": "3.9.10"
  },
  "vscode": {
   "interpreter": {
    "hash": "2d4455a2e61ae3957eb3f2dc120d37d8062efc997899814c5a66da8bebe4f69b"
   }
  }
 },
 "nbformat": 4,
 "nbformat_minor": 5
}
