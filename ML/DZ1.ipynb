{
 "cells": [
  {
   "cell_type": "code",
   "execution_count": 38,
   "id": "3f2c809d",
   "metadata": {},
   "outputs": [],
   "source": [
    "import numpy as np \n",
    "import pandas as pd \n",
    "import seaborn as sns \n",
    "import matplotlib.pyplot as plt \n",
    "%matplotlib inline"
   ]
  },
  {
   "cell_type": "code",
   "execution_count": 39,
   "id": "c64314fe",
   "metadata": {},
   "outputs": [
    {
     "data": {
      "text/html": [
       "<div>\n",
       "<style scoped>\n",
       "    .dataframe tbody tr th:only-of-type {\n",
       "        vertical-align: middle;\n",
       "    }\n",
       "\n",
       "    .dataframe tbody tr th {\n",
       "        vertical-align: top;\n",
       "    }\n",
       "\n",
       "    .dataframe thead th {\n",
       "        text-align: right;\n",
       "    }\n",
       "</style>\n",
       "<table border=\"1\" class=\"dataframe\">\n",
       "  <thead>\n",
       "    <tr style=\"text-align: right;\">\n",
       "      <th></th>\n",
       "      <th>Well</th>\n",
       "      <th>Por</th>\n",
       "      <th>Perm</th>\n",
       "      <th>AI</th>\n",
       "      <th>Brittle</th>\n",
       "      <th>TOC</th>\n",
       "      <th>VR</th>\n",
       "      <th>Prod</th>\n",
       "    </tr>\n",
       "  </thead>\n",
       "  <tbody>\n",
       "    <tr>\n",
       "      <th>0</th>\n",
       "      <td>1</td>\n",
       "      <td>12.08</td>\n",
       "      <td>2.92</td>\n",
       "      <td>2.80</td>\n",
       "      <td>81.40</td>\n",
       "      <td>1.16</td>\n",
       "      <td>2.31</td>\n",
       "      <td>4165.196191</td>\n",
       "    </tr>\n",
       "    <tr>\n",
       "      <th>1</th>\n",
       "      <td>2</td>\n",
       "      <td>12.38</td>\n",
       "      <td>3.53</td>\n",
       "      <td>3.22</td>\n",
       "      <td>46.17</td>\n",
       "      <td>0.89</td>\n",
       "      <td>1.88</td>\n",
       "      <td>3561.146205</td>\n",
       "    </tr>\n",
       "    <tr>\n",
       "      <th>2</th>\n",
       "      <td>3</td>\n",
       "      <td>14.02</td>\n",
       "      <td>2.59</td>\n",
       "      <td>4.01</td>\n",
       "      <td>72.80</td>\n",
       "      <td>0.89</td>\n",
       "      <td>2.72</td>\n",
       "      <td>4284.348574</td>\n",
       "    </tr>\n",
       "    <tr>\n",
       "      <th>3</th>\n",
       "      <td>4</td>\n",
       "      <td>17.67</td>\n",
       "      <td>6.75</td>\n",
       "      <td>2.63</td>\n",
       "      <td>39.81</td>\n",
       "      <td>1.08</td>\n",
       "      <td>1.88</td>\n",
       "      <td>5098.680869</td>\n",
       "    </tr>\n",
       "    <tr>\n",
       "      <th>4</th>\n",
       "      <td>5</td>\n",
       "      <td>17.52</td>\n",
       "      <td>4.57</td>\n",
       "      <td>3.18</td>\n",
       "      <td>10.94</td>\n",
       "      <td>1.51</td>\n",
       "      <td>1.90</td>\n",
       "      <td>3406.132832</td>\n",
       "    </tr>\n",
       "  </tbody>\n",
       "</table>\n",
       "</div>"
      ],
      "text/plain": [
       "   Well    Por  Perm    AI  Brittle   TOC    VR         Prod\n",
       "0     1  12.08  2.92  2.80    81.40  1.16  2.31  4165.196191\n",
       "1     2  12.38  3.53  3.22    46.17  0.89  1.88  3561.146205\n",
       "2     3  14.02  2.59  4.01    72.80  0.89  2.72  4284.348574\n",
       "3     4  17.67  6.75  2.63    39.81  1.08  1.88  5098.680869\n",
       "4     5  17.52  4.57  3.18    10.94  1.51  1.90  3406.132832"
      ]
     },
     "execution_count": 39,
     "metadata": {},
     "output_type": "execute_result"
    }
   ],
   "source": [
    "#откроем данные\n",
    "data = pd.read_csv('data/unconv.csv')\n",
    "data.head()"
   ]
  },
  {
   "cell_type": "markdown",
   "id": "1a7ff126",
   "metadata": {},
   "source": [
    "## Задание 2.1"
   ]
  },
  {
   "cell_type": "code",
   "execution_count": 40,
   "id": "d276bbb5",
   "metadata": {},
   "outputs": [
    {
     "data": {
      "text/html": [
       "<div>\n",
       "<style scoped>\n",
       "    .dataframe tbody tr th:only-of-type {\n",
       "        vertical-align: middle;\n",
       "    }\n",
       "\n",
       "    .dataframe tbody tr th {\n",
       "        vertical-align: top;\n",
       "    }\n",
       "\n",
       "    .dataframe thead th {\n",
       "        text-align: right;\n",
       "    }\n",
       "</style>\n",
       "<table border=\"1\" class=\"dataframe\">\n",
       "  <thead>\n",
       "    <tr style=\"text-align: right;\">\n",
       "      <th></th>\n",
       "      <th>Well</th>\n",
       "      <th>Por</th>\n",
       "      <th>Perm</th>\n",
       "      <th>AI</th>\n",
       "      <th>Brittle</th>\n",
       "      <th>TOC</th>\n",
       "      <th>VR</th>\n",
       "      <th>Prod</th>\n",
       "    </tr>\n",
       "  </thead>\n",
       "  <tbody>\n",
       "    <tr>\n",
       "      <th>Well</th>\n",
       "      <td>1.000000</td>\n",
       "      <td>0.068927</td>\n",
       "      <td>0.077928</td>\n",
       "      <td>0.041483</td>\n",
       "      <td>-0.079252</td>\n",
       "      <td>0.022624</td>\n",
       "      <td>-0.007279</td>\n",
       "      <td>0.026817</td>\n",
       "    </tr>\n",
       "    <tr>\n",
       "      <th>Por</th>\n",
       "      <td>0.068927</td>\n",
       "      <td>1.000000</td>\n",
       "      <td>0.760546</td>\n",
       "      <td>-0.461549</td>\n",
       "      <td>-0.218570</td>\n",
       "      <td>0.711831</td>\n",
       "      <td>0.111860</td>\n",
       "      <td>0.861910</td>\n",
       "    </tr>\n",
       "    <tr>\n",
       "      <th>Perm</th>\n",
       "      <td>0.077928</td>\n",
       "      <td>0.760546</td>\n",
       "      <td>1.000000</td>\n",
       "      <td>-0.239636</td>\n",
       "      <td>-0.124017</td>\n",
       "      <td>0.471746</td>\n",
       "      <td>0.051023</td>\n",
       "      <td>0.727426</td>\n",
       "    </tr>\n",
       "    <tr>\n",
       "      <th>AI</th>\n",
       "      <td>0.041483</td>\n",
       "      <td>-0.461549</td>\n",
       "      <td>-0.239636</td>\n",
       "      <td>1.000000</td>\n",
       "      <td>0.127599</td>\n",
       "      <td>-0.531864</td>\n",
       "      <td>0.499143</td>\n",
       "      <td>-0.390835</td>\n",
       "    </tr>\n",
       "    <tr>\n",
       "      <th>Brittle</th>\n",
       "      <td>-0.079252</td>\n",
       "      <td>-0.218570</td>\n",
       "      <td>-0.124017</td>\n",
       "      <td>0.127599</td>\n",
       "      <td>1.000000</td>\n",
       "      <td>-0.214282</td>\n",
       "      <td>0.317929</td>\n",
       "      <td>0.237155</td>\n",
       "    </tr>\n",
       "    <tr>\n",
       "      <th>TOC</th>\n",
       "      <td>0.022624</td>\n",
       "      <td>0.711831</td>\n",
       "      <td>0.471746</td>\n",
       "      <td>-0.531864</td>\n",
       "      <td>-0.214282</td>\n",
       "      <td>1.000000</td>\n",
       "      <td>0.299483</td>\n",
       "      <td>0.654445</td>\n",
       "    </tr>\n",
       "    <tr>\n",
       "      <th>VR</th>\n",
       "      <td>-0.007279</td>\n",
       "      <td>0.111860</td>\n",
       "      <td>0.051023</td>\n",
       "      <td>0.499143</td>\n",
       "      <td>0.317929</td>\n",
       "      <td>0.299483</td>\n",
       "      <td>1.000000</td>\n",
       "      <td>0.323182</td>\n",
       "    </tr>\n",
       "    <tr>\n",
       "      <th>Prod</th>\n",
       "      <td>0.026817</td>\n",
       "      <td>0.861910</td>\n",
       "      <td>0.727426</td>\n",
       "      <td>-0.390835</td>\n",
       "      <td>0.237155</td>\n",
       "      <td>0.654445</td>\n",
       "      <td>0.323182</td>\n",
       "      <td>1.000000</td>\n",
       "    </tr>\n",
       "  </tbody>\n",
       "</table>\n",
       "</div>"
      ],
      "text/plain": [
       "             Well       Por      Perm        AI   Brittle       TOC        VR  \\\n",
       "Well     1.000000  0.068927  0.077928  0.041483 -0.079252  0.022624 -0.007279   \n",
       "Por      0.068927  1.000000  0.760546 -0.461549 -0.218570  0.711831  0.111860   \n",
       "Perm     0.077928  0.760546  1.000000 -0.239636 -0.124017  0.471746  0.051023   \n",
       "AI       0.041483 -0.461549 -0.239636  1.000000  0.127599 -0.531864  0.499143   \n",
       "Brittle -0.079252 -0.218570 -0.124017  0.127599  1.000000 -0.214282  0.317929   \n",
       "TOC      0.022624  0.711831  0.471746 -0.531864 -0.214282  1.000000  0.299483   \n",
       "VR      -0.007279  0.111860  0.051023  0.499143  0.317929  0.299483  1.000000   \n",
       "Prod     0.026817  0.861910  0.727426 -0.390835  0.237155  0.654445  0.323182   \n",
       "\n",
       "             Prod  \n",
       "Well     0.026817  \n",
       "Por      0.861910  \n",
       "Perm     0.727426  \n",
       "AI      -0.390835  \n",
       "Brittle  0.237155  \n",
       "TOC      0.654445  \n",
       "VR       0.323182  \n",
       "Prod     1.000000  "
      ]
     },
     "execution_count": 40,
     "metadata": {},
     "output_type": "execute_result"
    }
   ],
   "source": [
    "#Постройте корреляционную матрицу факторов, включив в неё целевой признак.\n",
    "C = data.corr()\n",
    "C"
   ]
  },
  {
   "cell_type": "code",
   "execution_count": 41,
   "id": "0c0da888",
   "metadata": {},
   "outputs": [
    {
     "name": "stdout",
     "output_type": "stream",
     "text": [
      "Ранг корреляционной матрицы: 8\n"
     ]
    }
   ],
   "source": [
    "#Вычислите ранг полученной матрицы корреляций\n",
    "print('Ранг корреляционной матрицы:', np.linalg.matrix_rank(C))"
   ]
  },
  {
   "cell_type": "code",
   "execution_count": 42,
   "id": "72eb735a",
   "metadata": {},
   "outputs": [
    {
     "name": "stdout",
     "output_type": "stream",
     "text": [
      "Определитель матрицы корреляций: 0.0007299388072652095\n"
     ]
    }
   ],
   "source": [
    "#Вычислите определитель матрицы корреляций\n",
    "print('Определитель матрицы корреляций:', np.linalg.det(C))\n",
    "\n",
    "#Определитель матрицы корреляций близок к 0. Это значит, что есть мультиколлинеарные факторы."
   ]
  },
  {
   "cell_type": "markdown",
   "id": "b13b0be3",
   "metadata": {},
   "source": [
    "## Задание 2.2"
   ]
  },
  {
   "cell_type": "code",
   "execution_count": 43,
   "id": "97e6eb0a",
   "metadata": {},
   "outputs": [],
   "source": [
    "#Создайте матрицу наблюдений. Обозначьте её за X, а вектор правильных ответов — за y .\n",
    "\n",
    "#Добавим вектор единиц и удалим колонку с целевым признаком.\n",
    "X = np.column_stack((np.ones(data.shape[0]), data.drop(['Prod'], axis=1)))\n",
    "y = data['Prod']"
   ]
  },
  {
   "cell_type": "code",
   "execution_count": 44,
   "id": "656d1066",
   "metadata": {},
   "outputs": [
    {
     "name": "stdout",
     "output_type": "stream",
     "text": [
      "[-1.23230803e+03  5.07003631e-02  2.30179140e+02  1.16239006e+02\n",
      " -3.65202301e+02  2.49943700e+01 -7.84009294e+01  7.85259815e+02]\n"
     ]
    }
   ],
   "source": [
    "#Постройте модель линейной регрессии по методу наименьших квадратов. \n",
    "#Для этого используйте матричную формулу NumPy. \n",
    "#В качестве ответа укажите полученные оценки коэффициентов модели\n",
    "\n",
    "w_hat = np.linalg.inv(X.T@X)@X.T@y\n",
    "print(w_hat)"
   ]
  },
  {
   "cell_type": "markdown",
   "id": "75f5e369",
   "metadata": {},
   "source": [
    "## Задание 2.3"
   ]
  },
  {
   "cell_type": "code",
   "execution_count": 45,
   "id": "706f0778",
   "metadata": {},
   "outputs": [
    {
     "name": "stdout",
     "output_type": "stream",
     "text": [
      "Ошибка прогноза выработки газа: 25.250970292819147\n"
     ]
    }
   ],
   "source": [
    "#Постройте прогноз выработки газа для скважины с параметрами, указанными ниже.\n",
    "#Чему равна абсолютная ошибка построенного вами прогноза для предложенной скважины ?(в миллионах кубических футов в день).\n",
    "filter = data['Well'] == 106\n",
    "\n",
    "i = data[filter].index[0]\n",
    "\n",
    "y_pred = X[i] @ w_hat\n",
    "print('Ошибка прогноза выработки газа:', abs(y_pred - y[i]))"
   ]
  },
  {
   "cell_type": "markdown",
   "id": "e6567af4",
   "metadata": {},
   "source": [
    "Метрика MAPE:"
   ]
  },
  {
   "cell_type": "markdown",
   "id": "476e4ba5",
   "metadata": {},
   "source": [
    "![](https://miro.medium.com/max/596/1*vmIM1jePXsDxPpgWEQ35Lg.png)"
   ]
  },
  {
   "cell_type": "code",
   "execution_count": 46,
   "id": "4355c558",
   "metadata": {},
   "outputs": [
    {
     "name": "stdout",
     "output_type": "stream",
     "text": [
      "MAPE для модели составляет (%): 3.627946845133971\n"
     ]
    }
   ],
   "source": [
    "#Постройте прогноз выработки газа для всех скважин из обучающего набора данных. \n",
    "#Чему равно значение метрики MAPE вашей модели? \n",
    "sum = 0\n",
    "n = X.shape[0]\n",
    "for i in range(0, n):\n",
    "    y_pred = X[i] @ w_hat\n",
    "    sum += abs(y_pred - y[i]) / y[i]\n",
    "    \n",
    "print('MAPE для модели составляет (%):', sum / n * 100)"
   ]
  },
  {
   "cell_type": "markdown",
   "id": "a8f54f93",
   "metadata": {},
   "source": [
    "## Задание 2.5"
   ]
  },
  {
   "cell_type": "code",
   "execution_count": 47,
   "id": "dff14633",
   "metadata": {},
   "outputs": [
    {
     "data": {
      "text/html": [
       "<div>\n",
       "<style scoped>\n",
       "    .dataframe tbody tr th:only-of-type {\n",
       "        vertical-align: middle;\n",
       "    }\n",
       "\n",
       "    .dataframe tbody tr th {\n",
       "        vertical-align: top;\n",
       "    }\n",
       "\n",
       "    .dataframe thead th {\n",
       "        text-align: right;\n",
       "    }\n",
       "</style>\n",
       "<table border=\"1\" class=\"dataframe\">\n",
       "  <thead>\n",
       "    <tr style=\"text-align: right;\">\n",
       "      <th></th>\n",
       "      <th>Por</th>\n",
       "      <th>AI</th>\n",
       "      <th>Brittle</th>\n",
       "      <th>VR</th>\n",
       "      <th>Prod</th>\n",
       "    </tr>\n",
       "  </thead>\n",
       "  <tbody>\n",
       "    <tr>\n",
       "      <th>0</th>\n",
       "      <td>12.08</td>\n",
       "      <td>2.80</td>\n",
       "      <td>81.40</td>\n",
       "      <td>2.31</td>\n",
       "      <td>4165.196191</td>\n",
       "    </tr>\n",
       "    <tr>\n",
       "      <th>1</th>\n",
       "      <td>12.38</td>\n",
       "      <td>3.22</td>\n",
       "      <td>46.17</td>\n",
       "      <td>1.88</td>\n",
       "      <td>3561.146205</td>\n",
       "    </tr>\n",
       "    <tr>\n",
       "      <th>2</th>\n",
       "      <td>14.02</td>\n",
       "      <td>4.01</td>\n",
       "      <td>72.80</td>\n",
       "      <td>2.72</td>\n",
       "      <td>4284.348574</td>\n",
       "    </tr>\n",
       "    <tr>\n",
       "      <th>3</th>\n",
       "      <td>17.67</td>\n",
       "      <td>2.63</td>\n",
       "      <td>39.81</td>\n",
       "      <td>1.88</td>\n",
       "      <td>5098.680869</td>\n",
       "    </tr>\n",
       "    <tr>\n",
       "      <th>4</th>\n",
       "      <td>17.52</td>\n",
       "      <td>3.18</td>\n",
       "      <td>10.94</td>\n",
       "      <td>1.90</td>\n",
       "      <td>3406.132832</td>\n",
       "    </tr>\n",
       "  </tbody>\n",
       "</table>\n",
       "</div>"
      ],
      "text/plain": [
       "     Por    AI  Brittle    VR         Prod\n",
       "0  12.08  2.80    81.40  2.31  4165.196191\n",
       "1  12.38  3.22    46.17  1.88  3561.146205\n",
       "2  14.02  4.01    72.80  2.72  4284.348574\n",
       "3  17.67  2.63    39.81  1.88  5098.680869\n",
       "4  17.52  3.18    10.94  1.90  3406.132832"
      ]
     },
     "execution_count": 47,
     "metadata": {},
     "output_type": "execute_result"
    }
   ],
   "source": [
    "#Исключите из данных сильно коррелированные между собой факторы.\n",
    "\n",
    "#Сильно коррелируют 3 фактора - Perm, TOC и Por. Удалим первые 2, т.к. Por лучше всего коррелирует с целевым признаком.\n",
    "#Также удалим идентификатор колонки Well, т.к. от него не зависит целевой признак.\n",
    "data.drop(['Well', 'Perm', 'TOC'], axis=1, inplace=True)\n",
    "data.head()"
   ]
  },
  {
   "cell_type": "code",
   "execution_count": 48,
   "id": "ae7bee3e",
   "metadata": {},
   "outputs": [
    {
     "data": {
      "text/html": [
       "<div>\n",
       "<style scoped>\n",
       "    .dataframe tbody tr th:only-of-type {\n",
       "        vertical-align: middle;\n",
       "    }\n",
       "\n",
       "    .dataframe tbody tr th {\n",
       "        vertical-align: top;\n",
       "    }\n",
       "\n",
       "    .dataframe thead th {\n",
       "        text-align: right;\n",
       "    }\n",
       "</style>\n",
       "<table border=\"1\" class=\"dataframe\">\n",
       "  <thead>\n",
       "    <tr style=\"text-align: right;\">\n",
       "      <th></th>\n",
       "      <th>Por</th>\n",
       "      <th>AI</th>\n",
       "      <th>Brittle</th>\n",
       "      <th>VR</th>\n",
       "      <th>Prod</th>\n",
       "    </tr>\n",
       "  </thead>\n",
       "  <tbody>\n",
       "    <tr>\n",
       "      <th>Por</th>\n",
       "      <td>1.000000</td>\n",
       "      <td>-0.461549</td>\n",
       "      <td>-0.218570</td>\n",
       "      <td>0.111860</td>\n",
       "      <td>0.861910</td>\n",
       "    </tr>\n",
       "    <tr>\n",
       "      <th>AI</th>\n",
       "      <td>-0.461549</td>\n",
       "      <td>1.000000</td>\n",
       "      <td>0.127599</td>\n",
       "      <td>0.499143</td>\n",
       "      <td>-0.390835</td>\n",
       "    </tr>\n",
       "    <tr>\n",
       "      <th>Brittle</th>\n",
       "      <td>-0.218570</td>\n",
       "      <td>0.127599</td>\n",
       "      <td>1.000000</td>\n",
       "      <td>0.317929</td>\n",
       "      <td>0.237155</td>\n",
       "    </tr>\n",
       "    <tr>\n",
       "      <th>VR</th>\n",
       "      <td>0.111860</td>\n",
       "      <td>0.499143</td>\n",
       "      <td>0.317929</td>\n",
       "      <td>1.000000</td>\n",
       "      <td>0.323182</td>\n",
       "    </tr>\n",
       "    <tr>\n",
       "      <th>Prod</th>\n",
       "      <td>0.861910</td>\n",
       "      <td>-0.390835</td>\n",
       "      <td>0.237155</td>\n",
       "      <td>0.323182</td>\n",
       "      <td>1.000000</td>\n",
       "    </tr>\n",
       "  </tbody>\n",
       "</table>\n",
       "</div>"
      ],
      "text/plain": [
       "              Por        AI   Brittle        VR      Prod\n",
       "Por      1.000000 -0.461549 -0.218570  0.111860  0.861910\n",
       "AI      -0.461549  1.000000  0.127599  0.499143 -0.390835\n",
       "Brittle -0.218570  0.127599  1.000000  0.317929  0.237155\n",
       "VR       0.111860  0.499143  0.317929  1.000000  0.323182\n",
       "Prod     0.861910 -0.390835  0.237155  0.323182  1.000000"
      ]
     },
     "execution_count": 48,
     "metadata": {},
     "output_type": "execute_result"
    }
   ],
   "source": [
    "#Построим матрицу корреляций с целевым признаком.\n",
    "C = data.corr()\n",
    "C"
   ]
  },
  {
   "cell_type": "code",
   "execution_count": 49,
   "id": "39d1ba63",
   "metadata": {},
   "outputs": [
    {
     "name": "stdout",
     "output_type": "stream",
     "text": [
      "[-1835.44646069   293.03624565  -200.03091206    27.64098209\n",
      "   517.40272597]\n"
     ]
    }
   ],
   "source": [
    "#Постройте линейную регрессию на обновлённых после удаления факторов данных по методу наименьших квадратов.\n",
    "\n",
    "#Добавим вектор единиц и удалим колонку с целевым признаком.\n",
    "X = np.column_stack((np.ones(data.shape[0]), data.drop(['Prod'], axis=1)))\n",
    "y = data['Prod']\n",
    "\n",
    "w_hat = np.linalg.inv(X.T@X)@X.T@y\n",
    "print(w_hat)"
   ]
  },
  {
   "cell_type": "code",
   "execution_count": 50,
   "id": "0221bdd4",
   "metadata": {},
   "outputs": [
    {
     "name": "stdout",
     "output_type": "stream",
     "text": [
      "MAPE для модели составляет (%): 4.04413842043617\n"
     ]
    }
   ],
   "source": [
    "# Сделайте прогноз для всего обучающего набора данных и рассчитайте метрику MAPE (Mean Absolute Percentage Error).\n",
    "sum = 0\n",
    "n = X.shape[0]\n",
    "for i in range(0, n):\n",
    "    y_pred = X[i] @ w_hat\n",
    "    sum += abs(y_pred - y[i]) / y[i]\n",
    "    \n",
    "print('MAPE для модели составляет (%):', sum / n * 100)"
   ]
  },
  {
   "cell_type": "markdown",
   "id": "7237eeb2",
   "metadata": {},
   "source": [
    "## Задание 3.1"
   ]
  },
  {
   "cell_type": "code",
   "execution_count": 55,
   "id": "df24f446",
   "metadata": {},
   "outputs": [
    {
     "data": {
      "text/html": [
       "<div>\n",
       "<style scoped>\n",
       "    .dataframe tbody tr th:only-of-type {\n",
       "        vertical-align: middle;\n",
       "    }\n",
       "\n",
       "    .dataframe tbody tr th {\n",
       "        vertical-align: top;\n",
       "    }\n",
       "\n",
       "    .dataframe thead th {\n",
       "        text-align: right;\n",
       "    }\n",
       "</style>\n",
       "<table border=\"1\" class=\"dataframe\">\n",
       "  <thead>\n",
       "    <tr style=\"text-align: right;\">\n",
       "      <th></th>\n",
       "      <th>0</th>\n",
       "      <th>1</th>\n",
       "      <th>2</th>\n",
       "      <th>3</th>\n",
       "      <th>4</th>\n",
       "      <th>5</th>\n",
       "      <th>6</th>\n",
       "      <th>7</th>\n",
       "      <th>8</th>\n",
       "      <th>9</th>\n",
       "      <th>...</th>\n",
       "      <th>24</th>\n",
       "      <th>25</th>\n",
       "      <th>26</th>\n",
       "      <th>27</th>\n",
       "      <th>28</th>\n",
       "      <th>29</th>\n",
       "      <th>30</th>\n",
       "      <th>31</th>\n",
       "      <th>32</th>\n",
       "      <th>33</th>\n",
       "    </tr>\n",
       "  </thead>\n",
       "  <tbody>\n",
       "    <tr>\n",
       "      <th>0</th>\n",
       "      <td>12.08</td>\n",
       "      <td>2.80</td>\n",
       "      <td>81.40</td>\n",
       "      <td>2.31</td>\n",
       "      <td>145.9264</td>\n",
       "      <td>33.8240</td>\n",
       "      <td>983.3120</td>\n",
       "      <td>27.9048</td>\n",
       "      <td>7.8400</td>\n",
       "      <td>227.9200</td>\n",
       "      <td>...</td>\n",
       "      <td>21.952000</td>\n",
       "      <td>638.176000</td>\n",
       "      <td>18.110400</td>\n",
       "      <td>18552.688000</td>\n",
       "      <td>526.495200</td>\n",
       "      <td>14.941080</td>\n",
       "      <td>539353.144000</td>\n",
       "      <td>15305.967600</td>\n",
       "      <td>434.358540</td>\n",
       "      <td>12.326391</td>\n",
       "    </tr>\n",
       "    <tr>\n",
       "      <th>1</th>\n",
       "      <td>12.38</td>\n",
       "      <td>3.22</td>\n",
       "      <td>46.17</td>\n",
       "      <td>1.88</td>\n",
       "      <td>153.2644</td>\n",
       "      <td>39.8636</td>\n",
       "      <td>571.5846</td>\n",
       "      <td>23.2744</td>\n",
       "      <td>10.3684</td>\n",
       "      <td>148.6674</td>\n",
       "      <td>...</td>\n",
       "      <td>33.386248</td>\n",
       "      <td>478.709028</td>\n",
       "      <td>19.492592</td>\n",
       "      <td>6863.973858</td>\n",
       "      <td>279.494712</td>\n",
       "      <td>11.380768</td>\n",
       "      <td>98419.153113</td>\n",
       "      <td>4007.537532</td>\n",
       "      <td>163.183248</td>\n",
       "      <td>6.644672</td>\n",
       "    </tr>\n",
       "    <tr>\n",
       "      <th>2</th>\n",
       "      <td>14.02</td>\n",
       "      <td>4.01</td>\n",
       "      <td>72.80</td>\n",
       "      <td>2.72</td>\n",
       "      <td>196.5604</td>\n",
       "      <td>56.2202</td>\n",
       "      <td>1020.6560</td>\n",
       "      <td>38.1344</td>\n",
       "      <td>16.0801</td>\n",
       "      <td>291.9280</td>\n",
       "      <td>...</td>\n",
       "      <td>64.481201</td>\n",
       "      <td>1170.631280</td>\n",
       "      <td>43.737872</td>\n",
       "      <td>21252.358400</td>\n",
       "      <td>794.044160</td>\n",
       "      <td>29.667584</td>\n",
       "      <td>385828.352000</td>\n",
       "      <td>14415.564800</td>\n",
       "      <td>538.603520</td>\n",
       "      <td>20.123648</td>\n",
       "    </tr>\n",
       "    <tr>\n",
       "      <th>3</th>\n",
       "      <td>17.67</td>\n",
       "      <td>2.63</td>\n",
       "      <td>39.81</td>\n",
       "      <td>1.88</td>\n",
       "      <td>312.2289</td>\n",
       "      <td>46.4721</td>\n",
       "      <td>703.4427</td>\n",
       "      <td>33.2196</td>\n",
       "      <td>6.9169</td>\n",
       "      <td>104.7003</td>\n",
       "      <td>...</td>\n",
       "      <td>18.191447</td>\n",
       "      <td>275.361789</td>\n",
       "      <td>13.003772</td>\n",
       "      <td>4168.118943</td>\n",
       "      <td>196.836564</td>\n",
       "      <td>9.295472</td>\n",
       "      <td>63092.325141</td>\n",
       "      <td>2979.491868</td>\n",
       "      <td>140.704464</td>\n",
       "      <td>6.644672</td>\n",
       "    </tr>\n",
       "    <tr>\n",
       "      <th>4</th>\n",
       "      <td>17.52</td>\n",
       "      <td>3.18</td>\n",
       "      <td>10.94</td>\n",
       "      <td>1.90</td>\n",
       "      <td>306.9504</td>\n",
       "      <td>55.7136</td>\n",
       "      <td>191.6688</td>\n",
       "      <td>33.2880</td>\n",
       "      <td>10.1124</td>\n",
       "      <td>34.7892</td>\n",
       "      <td>...</td>\n",
       "      <td>32.157432</td>\n",
       "      <td>110.629656</td>\n",
       "      <td>19.213560</td>\n",
       "      <td>380.593848</td>\n",
       "      <td>66.099480</td>\n",
       "      <td>11.479800</td>\n",
       "      <td>1309.338584</td>\n",
       "      <td>227.398840</td>\n",
       "      <td>39.493400</td>\n",
       "      <td>6.859000</td>\n",
       "    </tr>\n",
       "  </tbody>\n",
       "</table>\n",
       "<p>5 rows × 34 columns</p>\n",
       "</div>"
      ],
      "text/plain": [
       "      0     1      2     3         4        5          6        7        8   \\\n",
       "0  12.08  2.80  81.40  2.31  145.9264  33.8240   983.3120  27.9048   7.8400   \n",
       "1  12.38  3.22  46.17  1.88  153.2644  39.8636   571.5846  23.2744  10.3684   \n",
       "2  14.02  4.01  72.80  2.72  196.5604  56.2202  1020.6560  38.1344  16.0801   \n",
       "3  17.67  2.63  39.81  1.88  312.2289  46.4721   703.4427  33.2196   6.9169   \n",
       "4  17.52  3.18  10.94  1.90  306.9504  55.7136   191.6688  33.2880  10.1124   \n",
       "\n",
       "         9   ...         24           25         26            27          28  \\\n",
       "0  227.9200  ...  21.952000   638.176000  18.110400  18552.688000  526.495200   \n",
       "1  148.6674  ...  33.386248   478.709028  19.492592   6863.973858  279.494712   \n",
       "2  291.9280  ...  64.481201  1170.631280  43.737872  21252.358400  794.044160   \n",
       "3  104.7003  ...  18.191447   275.361789  13.003772   4168.118943  196.836564   \n",
       "4   34.7892  ...  32.157432   110.629656  19.213560    380.593848   66.099480   \n",
       "\n",
       "          29             30            31          32         33  \n",
       "0  14.941080  539353.144000  15305.967600  434.358540  12.326391  \n",
       "1  11.380768   98419.153113   4007.537532  163.183248   6.644672  \n",
       "2  29.667584  385828.352000  14415.564800  538.603520  20.123648  \n",
       "3   9.295472   63092.325141   2979.491868  140.704464   6.644672  \n",
       "4  11.479800    1309.338584    227.398840   39.493400   6.859000  \n",
       "\n",
       "[5 rows x 34 columns]"
      ]
     },
     "metadata": {},
     "output_type": "display_data"
    }
   ],
   "source": [
    "#Сгенерируйте полиномиальные признаки третьего порядка на факторах, которые вы выбрали для обучения моделей\n",
    "from sklearn.preprocessing import PolynomialFeatures\n",
    "\n",
    "X = data.drop(['Prod'], axis=1)\n",
    "\n",
    "poly = PolynomialFeatures(degree=3, include_bias=False)\n",
    "X = poly.fit_transform(X)\n",
    "display(pd.DataFrame(X).head())"
   ]
  },
  {
   "cell_type": "code",
   "execution_count": 56,
   "id": "2c519843",
   "metadata": {},
   "outputs": [
    {
     "name": "stdout",
     "output_type": "stream",
     "text": [
      "[4004.29030203 3446.81589884 4408.00806936 5012.67544702 3150.04970867\n",
      " 4287.92472055 4141.33998162 3435.21890988 4155.00204336 4288.70296274] ...\n"
     ]
    }
   ],
   "source": [
    "#Обучите модель линейной регрессии из библиотеки sklearn (LinearRegression) на полученных полиномиальных факторах.\n",
    "from sklearn.linear_model import LinearRegression\n",
    "\n",
    "# создаём модель линейной регрессии\n",
    "lr = LinearRegression()\n",
    "lr.fit(X, y)\n",
    "y_pred = lr.predict(X)\n",
    "print(y_pred[:10], '...')"
   ]
  },
  {
   "cell_type": "code",
   "execution_count": 57,
   "id": "a97c954b",
   "metadata": {},
   "outputs": [
    {
     "name": "stdout",
     "output_type": "stream",
     "text": [
      "MAPE на тренировочных фолдах: 1.77 %\n",
      "MAPE на валидационных фолдах: 2.68 %\n"
     ]
    }
   ],
   "source": [
    "#Оцените среднее значение метрики MAPE, используя кросс-валидацию на пяти фолдах.\n",
    "from sklearn.model_selection import cross_validate\n",
    "\n",
    "lr = LinearRegression()\n",
    "# оцениваем качество модели на кросс-валидации, метрика — MAPE\n",
    "cv_results = cross_validate(lr, X, y, scoring='neg_mean_absolute_percentage_error', cv=5, return_train_score=True)\n",
    "print('MAPE на тренировочных фолдах: {:.2f} %'.format(-cv_results['train_score'].mean()* 100))\n",
    "print('MAPE на валидационных фолдах: {:.2f} %'.format(-cv_results['test_score'].mean() * 100))"
   ]
  },
  {
   "cell_type": "markdown",
   "id": "0180433f",
   "metadata": {},
   "source": [
    "## Задание 3.2"
   ]
  },
  {
   "cell_type": "code",
   "execution_count": 63,
   "id": "bb4c1aa9",
   "metadata": {},
   "outputs": [
    {
     "name": "stdout",
     "output_type": "stream",
     "text": [
      "[927.20383187 -88.21972516 375.12303358 121.02250022  70.46423802\n",
      "   0.           8.12236776   0.          -3.04261735  -1.56030064] ...\n",
      "MAPE на тренировочных фолдах: 1.83 %\n",
      "MAPE на валидационных фолдах: 2.28 %\n"
     ]
    }
   ],
   "source": [
    "# Обучите модель Lasso из библиотеки sklearn на полученных полиномиальных факторах, предварительно стандартизировав факторы с помощью StandardScaler. Коэффициент регуляризации выставите равным 5.\n",
    "from sklearn.preprocessing import StandardScaler\n",
    "from sklearn.linear_model import Lasso\n",
    "\n",
    "X = data.drop(['Prod'], axis=1)\n",
    "\n",
    "scaler = StandardScaler()\n",
    "# подгоняем параметры стандартизатора (вычисляем среднее и СКО)\n",
    "X = scaler.fit_transform(X)\n",
    "\n",
    "# добавляем полиномиальные признаки\n",
    "poly = PolynomialFeatures(degree=3, include_bias=False)\n",
    "X = poly.fit_transform(X)\n",
    "\n",
    "# создаём модель линейной регрессии c L1-регуляризацией\n",
    "lasso = Lasso(alpha=5, max_iter=10000)\n",
    "lasso.fit(X, y)\n",
    "print(lasso.coef_[:10], '...')\n",
    "\n",
    "#Оцените среднее значение метрики MAPE, используя кросс-валидацию на пяти фолдах.\n",
    "\n",
    "# создаём модель линейной регрессии c L1-регуляризацией\n",
    "lasso = Lasso(alpha=5, max_iter=10000)\n",
    "# оцениваем качество модели на кросс-валидации\n",
    "cv_results = cross_validate(lasso, X, y, scoring='neg_mean_absolute_percentage_error', cv=5, return_train_score=True)\n",
    "print('MAPE на тренировочных фолдах: {:.2f} %'.format(-cv_results['train_score'].mean()* 100))\n",
    "print('MAPE на валидационных фолдах: {:.2f} %'.format(-cv_results['test_score'].mean() * 100))"
   ]
  },
  {
   "cell_type": "markdown",
   "id": "74c83404",
   "metadata": {},
   "source": [
    "## Задание 3.3"
   ]
  },
  {
   "cell_type": "code",
   "execution_count": 64,
   "id": "9e0bed7a",
   "metadata": {},
   "outputs": [
    {
     "name": "stdout",
     "output_type": "stream",
     "text": [
      "[ 896.69341149 -132.70496963  369.483924    154.22971824   94.91001658\n",
      "   25.53898554   18.32860477  -20.40707726    4.52167629   -4.0084608 ] ...\n",
      "MAPE на тренировочных фолдах: 1.83 %\n",
      "MAPE на валидационных фолдах: 2.72 %\n"
     ]
    }
   ],
   "source": [
    "#Обучите модель Ridge из библиотеки sklearn на полученных полиномиальных факторах, предварительно стандартизировав факторы с помощью StandardScaler. Коэффициент регуляризации выставите равным 1.\n",
    "from sklearn.linear_model import Ridge\n",
    "\n",
    "# создаём модель линейной регрессии c L2-регуляризацией\n",
    "ridge = Ridge(alpha=1, solver='svd')\n",
    "ridge.fit(X, y)\n",
    "print(ridge.coef_[:10], '...')\n",
    "\n",
    "#Оцените среднее значение метрики MAPE, используя кросс-валидацию на пяти фолдах.\n",
    "\n",
    "# создаём модель линейной регрессии c L2-регуляризацией\n",
    "ridge = Ridge(alpha=1, solver='svd')\n",
    "\n",
    "# оцениваем качество модели на кросс-валидации\n",
    "cv_results = cross_validate(ridge, X, y, scoring='neg_mean_absolute_percentage_error', cv=5, return_train_score=True)\n",
    "print('MAPE на тренировочных фолдах: {:.2f} %'.format(-cv_results['train_score'].mean()* 100))\n",
    "print('MAPE на валидационных фолдах: {:.2f} %'.format(-cv_results['test_score'].mean() * 100))"
   ]
  }
 ],
 "metadata": {
  "kernelspec": {
   "display_name": "Python 3.9.10 64-bit",
   "language": "python",
   "name": "python3"
  },
  "language_info": {
   "codemirror_mode": {
    "name": "ipython",
    "version": 3
   },
   "file_extension": ".py",
   "mimetype": "text/x-python",
   "name": "python",
   "nbconvert_exporter": "python",
   "pygments_lexer": "ipython3",
   "version": "3.9.10"
  },
  "vscode": {
   "interpreter": {
    "hash": "2d4455a2e61ae3957eb3f2dc120d37d8062efc997899814c5a66da8bebe4f69b"
   }
  }
 },
 "nbformat": 4,
 "nbformat_minor": 5
}
